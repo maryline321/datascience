{
  "nbformat": 4,
  "nbformat_minor": 0,
  "metadata": {
    "colab": {
      "name": "MachileLearning_LinearRregression.ipynb",
      "provenance": [],
      "collapsed_sections": [],
      "authorship_tag": "ABX9TyOp7JrCCuTCbDgUkL1Xwx/m",
      "include_colab_link": true
    },
    "kernelspec": {
      "name": "python3",
      "display_name": "Python 3"
    },
    "language_info": {
      "name": "python"
    }
  },
  "cells": [
    {
      "cell_type": "markdown",
      "metadata": {
        "id": "view-in-github",
        "colab_type": "text"
      },
      "source": [
        "<a href=\"https://colab.research.google.com/github/maryline321/datascience/blob/main/MachileLearning_LinearRregression.ipynb\" target=\"_parent\"><img src=\"https://colab.research.google.com/assets/colab-badge.svg\" alt=\"Open In Colab\"/></a>"
      ]
    },
    {
      "cell_type": "code",
      "metadata": {
        "id": "qCvfB7bbwV59"
      },
      "source": [
        "# Import modules we'll need for this notebook\n",
        "import pandas as pd\n",
        "from sklearn.linear_model import LinearRegression\n",
        "from sklearn.metrics import mean_squared_error, r2_score\n",
        "from sklearn.model_selection import train_test_split\n",
        "import numpy as np\n",
        "import matplotlib.pyplot as plt\n",
        "%matplotlib inline\n"
      ],
      "execution_count": 64,
      "outputs": []
    },
    {
      "cell_type": "code",
      "metadata": {
        "colab": {
          "base_uri": "https://localhost:8080/",
          "height": 298
        },
        "id": "eVyMSO73wi6-",
        "outputId": "8736d59a-51cb-43e1-a5d1-0b95f473c313"
      },
      "source": [
        "\n",
        "# load the training dataset\n",
        "!wget https://raw.githubusercontent.com/MicrosoftDocs/mslearn-introduction-to-machine-learning/main/Data/ml-basics/daily-bike-share.csv\n",
        "Data = pd.read_csv('daily-bike-share.csv')\n",
        "Data.head(2)"
      ],
      "execution_count": 65,
      "outputs": [
        {
          "output_type": "stream",
          "text": [
            "--2021-08-27 23:31:19--  https://raw.githubusercontent.com/MicrosoftDocs/mslearn-introduction-to-machine-learning/main/Data/ml-basics/daily-bike-share.csv\n",
            "Resolving raw.githubusercontent.com (raw.githubusercontent.com)... 185.199.108.133, 185.199.109.133, 185.199.110.133, ...\n",
            "Connecting to raw.githubusercontent.com (raw.githubusercontent.com)|185.199.108.133|:443... connected.\n",
            "HTTP request sent, awaiting response... 200 OK\n",
            "Length: 48800 (48K) [text/plain]\n",
            "Saving to: ‘daily-bike-share.csv.6’\n",
            "\n",
            "\rdaily-bike-share.cs   0%[                    ]       0  --.-KB/s               \rdaily-bike-share.cs 100%[===================>]  47.66K  --.-KB/s    in 0.01s   \n",
            "\n",
            "2021-08-27 23:31:19 (4.45 MB/s) - ‘daily-bike-share.csv.6’ saved [48800/48800]\n",
            "\n"
          ],
          "name": "stdout"
        },
        {
          "output_type": "execute_result",
          "data": {
            "text/html": [
              "<div>\n",
              "<style scoped>\n",
              "    .dataframe tbody tr th:only-of-type {\n",
              "        vertical-align: middle;\n",
              "    }\n",
              "\n",
              "    .dataframe tbody tr th {\n",
              "        vertical-align: top;\n",
              "    }\n",
              "\n",
              "    .dataframe thead th {\n",
              "        text-align: right;\n",
              "    }\n",
              "</style>\n",
              "<table border=\"1\" class=\"dataframe\">\n",
              "  <thead>\n",
              "    <tr style=\"text-align: right;\">\n",
              "      <th></th>\n",
              "      <th>instant</th>\n",
              "      <th>dteday</th>\n",
              "      <th>season</th>\n",
              "      <th>yr</th>\n",
              "      <th>mnth</th>\n",
              "      <th>holiday</th>\n",
              "      <th>weekday</th>\n",
              "      <th>workingday</th>\n",
              "      <th>weathersit</th>\n",
              "      <th>temp</th>\n",
              "      <th>atemp</th>\n",
              "      <th>hum</th>\n",
              "      <th>windspeed</th>\n",
              "      <th>rentals</th>\n",
              "    </tr>\n",
              "  </thead>\n",
              "  <tbody>\n",
              "    <tr>\n",
              "      <th>0</th>\n",
              "      <td>1</td>\n",
              "      <td>1/1/2011</td>\n",
              "      <td>1</td>\n",
              "      <td>0</td>\n",
              "      <td>1</td>\n",
              "      <td>0</td>\n",
              "      <td>6</td>\n",
              "      <td>0</td>\n",
              "      <td>2</td>\n",
              "      <td>0.344167</td>\n",
              "      <td>0.363625</td>\n",
              "      <td>0.805833</td>\n",
              "      <td>0.160446</td>\n",
              "      <td>331</td>\n",
              "    </tr>\n",
              "    <tr>\n",
              "      <th>1</th>\n",
              "      <td>2</td>\n",
              "      <td>1/2/2011</td>\n",
              "      <td>1</td>\n",
              "      <td>0</td>\n",
              "      <td>1</td>\n",
              "      <td>0</td>\n",
              "      <td>0</td>\n",
              "      <td>0</td>\n",
              "      <td>2</td>\n",
              "      <td>0.363478</td>\n",
              "      <td>0.353739</td>\n",
              "      <td>0.696087</td>\n",
              "      <td>0.248539</td>\n",
              "      <td>131</td>\n",
              "    </tr>\n",
              "  </tbody>\n",
              "</table>\n",
              "</div>"
            ],
            "text/plain": [
              "   instant    dteday  season  yr  ...     atemp       hum  windspeed  rentals\n",
              "0        1  1/1/2011       1   0  ...  0.363625  0.805833   0.160446      331\n",
              "1        2  1/2/2011       1   0  ...  0.353739  0.696087   0.248539      131\n",
              "\n",
              "[2 rows x 14 columns]"
            ]
          },
          "metadata": {},
          "execution_count": 65
        }
      ]
    },
    {
      "cell_type": "code",
      "metadata": {
        "colab": {
          "base_uri": "https://localhost:8080/",
          "height": 297
        },
        "id": "5Ivh9EqXw0IL",
        "outputId": "3d50df76-6137-4b8c-f1a9-65d164e8b36e"
      },
      "source": [
        "Data['day'] = pd.DatetimeIndex(Data['dteday']).day\n",
        "numeric_features = ['temp', 'atemp', 'hum', 'windspeed']\n",
        "categorical_features = ['season','mnth','holiday','weekday','workingday','weathersit', 'day']\n",
        "Data[numeric_features + ['rentals']].describe()"
      ],
      "execution_count": 66,
      "outputs": [
        {
          "output_type": "execute_result",
          "data": {
            "text/html": [
              "<div>\n",
              "<style scoped>\n",
              "    .dataframe tbody tr th:only-of-type {\n",
              "        vertical-align: middle;\n",
              "    }\n",
              "\n",
              "    .dataframe tbody tr th {\n",
              "        vertical-align: top;\n",
              "    }\n",
              "\n",
              "    .dataframe thead th {\n",
              "        text-align: right;\n",
              "    }\n",
              "</style>\n",
              "<table border=\"1\" class=\"dataframe\">\n",
              "  <thead>\n",
              "    <tr style=\"text-align: right;\">\n",
              "      <th></th>\n",
              "      <th>temp</th>\n",
              "      <th>atemp</th>\n",
              "      <th>hum</th>\n",
              "      <th>windspeed</th>\n",
              "      <th>rentals</th>\n",
              "    </tr>\n",
              "  </thead>\n",
              "  <tbody>\n",
              "    <tr>\n",
              "      <th>count</th>\n",
              "      <td>731.000000</td>\n",
              "      <td>731.000000</td>\n",
              "      <td>731.000000</td>\n",
              "      <td>731.000000</td>\n",
              "      <td>731.000000</td>\n",
              "    </tr>\n",
              "    <tr>\n",
              "      <th>mean</th>\n",
              "      <td>0.495385</td>\n",
              "      <td>0.474354</td>\n",
              "      <td>0.627894</td>\n",
              "      <td>0.190486</td>\n",
              "      <td>848.176471</td>\n",
              "    </tr>\n",
              "    <tr>\n",
              "      <th>std</th>\n",
              "      <td>0.183051</td>\n",
              "      <td>0.162961</td>\n",
              "      <td>0.142429</td>\n",
              "      <td>0.077498</td>\n",
              "      <td>686.622488</td>\n",
              "    </tr>\n",
              "    <tr>\n",
              "      <th>min</th>\n",
              "      <td>0.059130</td>\n",
              "      <td>0.079070</td>\n",
              "      <td>0.000000</td>\n",
              "      <td>0.022392</td>\n",
              "      <td>2.000000</td>\n",
              "    </tr>\n",
              "    <tr>\n",
              "      <th>25%</th>\n",
              "      <td>0.337083</td>\n",
              "      <td>0.337842</td>\n",
              "      <td>0.520000</td>\n",
              "      <td>0.134950</td>\n",
              "      <td>315.500000</td>\n",
              "    </tr>\n",
              "    <tr>\n",
              "      <th>50%</th>\n",
              "      <td>0.498333</td>\n",
              "      <td>0.486733</td>\n",
              "      <td>0.626667</td>\n",
              "      <td>0.180975</td>\n",
              "      <td>713.000000</td>\n",
              "    </tr>\n",
              "    <tr>\n",
              "      <th>75%</th>\n",
              "      <td>0.655417</td>\n",
              "      <td>0.608602</td>\n",
              "      <td>0.730209</td>\n",
              "      <td>0.233214</td>\n",
              "      <td>1096.000000</td>\n",
              "    </tr>\n",
              "    <tr>\n",
              "      <th>max</th>\n",
              "      <td>0.861667</td>\n",
              "      <td>0.840896</td>\n",
              "      <td>0.972500</td>\n",
              "      <td>0.507463</td>\n",
              "      <td>3410.000000</td>\n",
              "    </tr>\n",
              "  </tbody>\n",
              "</table>\n",
              "</div>"
            ],
            "text/plain": [
              "             temp       atemp         hum   windspeed      rentals\n",
              "count  731.000000  731.000000  731.000000  731.000000   731.000000\n",
              "mean     0.495385    0.474354    0.627894    0.190486   848.176471\n",
              "std      0.183051    0.162961    0.142429    0.077498   686.622488\n",
              "min      0.059130    0.079070    0.000000    0.022392     2.000000\n",
              "25%      0.337083    0.337842    0.520000    0.134950   315.500000\n",
              "50%      0.498333    0.486733    0.626667    0.180975   713.000000\n",
              "75%      0.655417    0.608602    0.730209    0.233214  1096.000000\n",
              "max      0.861667    0.840896    0.972500    0.507463  3410.000000"
            ]
          },
          "metadata": {},
          "execution_count": 66
        }
      ]
    },
    {
      "cell_type": "code",
      "metadata": {
        "colab": {
          "base_uri": "https://localhost:8080/"
        },
        "id": "8uVfYq6fwmwm",
        "outputId": "7323b468-8d51-4487-cd84-3a071e9e09da"
      },
      "source": [
        "# Separate features and labels\n",
        "# After separating the dataset, we now have numpy arrays named **X** containing the features, and **y** containing the labels.\n",
        "X, y = Data[['season','mnth', 'holiday','weekday','workingday','weathersit','temp', 'atemp', 'hum', 'windspeed']].values, bike_data['rentals'].values\n",
        "\n",
        "# Split data 70%-30% into training set and test set\n",
        "X_train, X_test, y_train, y_test = train_test_split(X, y, test_size=0.30, random_state=0)\n",
        "\n",
        "print ('Training Set: %d rows\\nTest Set: %d rows' % (X_train.shape[0], X_test.shape[0]))"
      ],
      "execution_count": 67,
      "outputs": [
        {
          "output_type": "stream",
          "text": [
            "Training Set: 511 rows\n",
            "Test Set: 220 rows\n"
          ],
          "name": "stdout"
        }
      ]
    },
    {
      "cell_type": "code",
      "metadata": {
        "colab": {
          "base_uri": "https://localhost:8080/"
        },
        "id": "xoZkImM8xe9E",
        "outputId": "4f7b09b0-b7e0-4579-c1a7-f47bf81535c8"
      },
      "source": [
        "# Fit a lasso model on the training set\n",
        "model = Lasso().fit(X_train, y_train)\n",
        "print (model, \"\\n\")\n"
      ],
      "execution_count": 68,
      "outputs": [
        {
          "output_type": "stream",
          "text": [
            "Lasso(alpha=1.0, copy_X=True, fit_intercept=True, max_iter=1000,\n",
            "      normalize=False, positive=False, precompute=False, random_state=None,\n",
            "      selection='cyclic', tol=0.0001, warm_start=False) \n",
            "\n"
          ],
          "name": "stdout"
        }
      ]
    },
    {
      "cell_type": "code",
      "metadata": {
        "colab": {
          "base_uri": "https://localhost:8080/"
        },
        "id": "E_60qoy5xfBY",
        "outputId": "5e20d68c-4b0e-4db1-a2b8-1c74a7728490"
      },
      "source": [
        "predictions=model.predict(X_test)\n",
        "mse=mean_squared_error(y_test, predictions)\n",
        "print(\"MSE\", mse)\n"
      ],
      "execution_count": 69,
      "outputs": [
        {
          "output_type": "stream",
          "text": [
            "MSE 201155.70593338404\n"
          ],
          "name": "stdout"
        }
      ]
    },
    {
      "cell_type": "code",
      "metadata": {
        "colab": {
          "base_uri": "https://localhost:8080/"
        },
        "id": "wULRHbfy3Tob",
        "outputId": "22566193-6f2a-42f3-c5dc-cac2f3489e50"
      },
      "source": [
        "rmse=np.sqrt(mse)\n",
        "print(\"RMSE\", rmse)"
      ],
      "execution_count": 70,
      "outputs": [
        {
          "output_type": "stream",
          "text": [
            "RMSE 448.5038527519959\n"
          ],
          "name": "stdout"
        }
      ]
    },
    {
      "cell_type": "code",
      "metadata": {
        "colab": {
          "base_uri": "https://localhost:8080/"
        },
        "id": "u_7pzQ163TsP",
        "outputId": "a8b12a8e-64fd-476e-b29a-ee51e0ee3042"
      },
      "source": [
        "r2=r2_score(y_test, predictions)\n",
        "print(\"R2\", r2)"
      ],
      "execution_count": 71,
      "outputs": [
        {
          "output_type": "stream",
          "text": [
            "R2 0.6056468637824488\n"
          ],
          "name": "stdout"
        }
      ]
    },
    {
      "cell_type": "code",
      "metadata": {
        "colab": {
          "base_uri": "https://localhost:8080/",
          "height": 265
        },
        "id": "lEC8HCea3TwQ",
        "outputId": "87b62301-5735-47d1-9975-0cc78082da63"
      },
      "source": [
        "%matplotlib inline\n",
        "\n",
        "# Plot predicted vs actual\n",
        "\n",
        "plt.scatter(y_test, predictions)\n",
        "plt.xlabel=('Actual Labels')\n",
        "plt.ylabel=('predicted labels')\n",
        "plt.title=('Bike Rental Predictions')\n",
        "\n",
        "\n",
        "z=np.polyfit(y_test, predictions,1)\n",
        "p=np.poly1d(z)\n",
        "plt.plot(y_test,p(y_test), color='magenta')\n",
        "plt.show()"
      ],
      "execution_count": 72,
      "outputs": [
        {
          "output_type": "display_data",
          "data": {
            "image/png": "[encoded data removed]",
            "text/plain": [
              "<Figure size 432x288 with 1 Axes>"
            ]
          },
          "metadata": {
            "needs_background": "light"
          }
        }
      ]
    },
    {
      "cell_type": "code",
      "metadata": {
        "colab": {
          "base_uri": "https://localhost:8080/",
          "height": 137
        },
        "id": "ool1cXpkxfFj",
        "outputId": "a0315c19-9803-40d4-f777-3ecf78565670"
      },
      "source": [
        "from sklearn.tree import DecisionTreeRegressor\n",
        "from sklearn.tree import export_text\n",
        "\n",
        "model =DecisionTreeRegressor().fit(X_train, y_train)\n",
        "tree= export_text(model)\n",
        "tree"
      ],
      "execution_count": 73,
      "outputs": [
        {
          "output_type": "execute_result",
          "data": {
            "application/vnd.google.colaboratory.intrinsic+json": {
              "type": "string"
            },
            "text/plain": [
              "'|--- feature_6 <= 0.45\\n|   |--- feature_4 <= 0.50\\n|   |   |--- feature_7 <= 0.32\\n|   |   |   |--- feature_8 <= 0.41\\n|   |   |   |   |--- feature_1 <= 2.50\\n|   |   |   |   |   |--- feature_3 <= 3.00\\n|   |   |   |   |   |   |--- feature_1 <= 1.50\\n|   |   |   |   |   |   |   |--- value: [558.00]\\n|   |   |   |   |   |   |--- feature_1 >  1.50\\n|   |   |   |   |   |   |   |--- value: [515.00]\\n|   |   |   |   |   |--- feature_3 >  3.00\\n|   |   |   |   |   |   |--- value: [317.00]\\n|   |   |   |   |--- feature_1 >  2.50\\n|   |   |   |   |   |--- feature_8 <= 0.40\\n|   |   |   |   |   |   |--- feature_9 <= 0.22\\n|   |   |   |   |   |   |   |--- value: [981.00]\\n|   |   |   |   |   |   |--- feature_9 >  0.22\\n|   |   |   |   |   |   |   |--- value: [968.00]\\n|   |   |   |   |   |--- feature_8 >  0.40\\n|   |   |   |   |   |   |--- feature_9 <= 0.36\\n|   |   |   |   |   |   |   |--- value: [710.00]\\n|   |   |   |   |   |   |--- feature_9 >  0.36\\n|   |   |   |   |   |   |   |--- value: [532.00]\\n|   |   |   |--- feature_8 >  0.41\\n|   |   |   |   |--- feature_7 <= 0.25\\n|   |   |   |   |   |--- feature_6 <= 0.18\\n|   |   |   |   |   |   |--- feature_8 <= 0.43\\n|   |   |   |   |   |   |   |--- value: [284.00]\\n|   |   |   |   |   |   |--- feature_8 >  0.43\\n|   |   |   |   |   |   |   |--- feature_7 <= 0.10\\n|   |   |   |   |   |   |   |   |--- value: [150.00]\\n|   |   |   |   |   |   |   |--- feature_7 >  0.10\\n|   |   |   |   |   |   |   |   |--- feature_7 <= 0.18\\n|   |   |   |   |   |   |   |   |   |--- feature_1 <= 1.50\\n|   |   |   |   |   |   |   |   |   |   |--- feature_7 <= 0.17\\n|   |   |   |   |   |   |   |   |   |   |   |--- value: [68.00]\\n|   |   |   |   |   |   |   |   |   |   |--- feature_7 >  0.17\\n|   |   |   |   |   |   |   |   |   |   |   |--- value: [67.00]\\n|   |   |   |   |   |   |   |   |   |--- feature_1 >  1.50\\n|   |   |   |   |   |   |   |   |   |   |--- value: [73.00]\\n|   |   |   |   |   |   |   |   |--- feature_7 >  0.18\\n|   |   |   |   |   |   |   |   |   |--- value: [117.00]\\n|   |   |   |   |   |--- feature_6 >  0.18\\n|   |   |   |   |   |   |--- feature_9 <= 0.17\\n|   |   |   |   |   |   |   |--- feature_7 <= 0.23\\n|   |   |   |   |   |   |   |   |--- value: [123.00]\\n|   |   |   |   |   |   |   |--- feature_7 >  0.23\\n|   |   |   |   |   |   |   |   |--- value: [140.00]\\n|   |   |   |   |   |   |--- feature_9 >  0.17\\n|   |   |   |   |   |   |   |--- feature_7 <= 0.19\\n|   |   |   |   |   |   |   |   |--- value: [333.00]\\n|   |   |   |   |   |   |   |--- feature_7 >  0.19\\n|   |   |   |   |   |   |   |   |--- feature_8 <= 0.53\\n|   |   |   |   |   |   |   |   |   |--- feature_3 <= 0.50\\n|   |   |   |   |   |   |   |   |   |   |--- value: [251.00]\\n|   |   |   |   |   |   |   |   |   |--- feature_3 >  0.50\\n|   |   |   |   |   |   |   |   |   |   |--- feature_6 <= 0.23\\n|   |   |   |   |   |   |   |   |   |   |   |--- value: [217.00]\\n|   |   |   |   |   |   |   |   |   |   |--- feature_6 >  0.23\\n|   |   |   |   |   |   |   |   |   |   |   |--- value: [205.00]\\n|   |   |   |   |   |   |   |   |--- feature_8 >  0.53\\n|   |   |   |   |   |   |   |   |   |--- feature_6 <= 0.24\\n|   |   |   |   |   |   |   |   |   |   |--- value: [288.00]\\n|   |   |   |   |   |   |   |   |   |--- feature_6 >  0.24\\n|   |   |   |   |   |   |   |   |   |   |--- value: [275.00]\\n|   |   |   |   |--- feature_7 >  0.25\\n|   |   |   |   |   |--- feature_9 <= 0.11\\n|   |   |   |   |   |   |--- value: [706.00]\\n|   |   |   |   |   |--- feature_9 >  0.11\\n|   |   |   |   |   |   |--- feature_8 <= 0.54\\n|   |   |   |   |   |   |   |--- feature_5 <= 1.50\\n|   |   |   |   |   |   |   |   |--- feature_7 <= 0.26\\n|   |   |   |   |   |   |   |   |   |--- value: [309.00]\\n|   |   |   |   |   |   |   |   |--- feature_7 >  0.26\\n|   |   |   |   |   |   |   |   |   |--- feature_0 <= 2.50\\n|   |   |   |   |   |   |   |   |   |   |--- feature_9 <= 0.16\\n|   |   |   |   |   |   |   |   |   |   |   |--- value: [408.00]\\n|   |   |   |   |   |   |   |   |   |   |--- feature_9 >  0.16\\n|   |   |   |   |   |   |   |   |   |   |   |--- truncated branch of depth 2\\n|   |   |   |   |   |   |   |   |   |--- feature_0 >  2.50\\n|   |   |   |   |   |   |   |   |   |   |--- feature_1 <= 11.50\\n|   |   |   |   |   |   |   |   |   |   |   |--- value: [440.00]\\n|   |   |   |   |   |   |   |   |   |   |--- feature_1 >  11.50\\n|   |   |   |   |   |   |   |   |   |   |   |--- value: [502.00]\\n|   |   |   |   |   |   |   |--- feature_5 >  1.50\\n|   |   |   |   |   |   |   |   |--- value: [618.00]\\n|   |   |   |   |   |   |--- feature_8 >  0.54\\n|   |   |   |   |   |   |   |--- feature_9 <= 0.18\\n|   |   |   |   |   |   |   |   |--- feature_5 <= 1.50\\n|   |   |   |   |   |   |   |   |   |--- value: [354.00]\\n|   |   |   |   |   |   |   |   |--- feature_5 >  1.50\\n|   |   |   |   |   |   |   |   |   |--- value: [318.00]\\n|   |   |   |   |   |   |   |--- feature_9 >  0.18\\n|   |   |   |   |   |   |   |   |--- feature_7 <= 0.29\\n|   |   |   |   |   |   |   |   |   |--- value: [195.00]\\n|   |   |   |   |   |   |   |   |--- feature_7 >  0.29\\n|   |   |   |   |   |   |   |   |   |--- value: [155.00]\\n|   |   |--- feature_7 >  0.32\\n|   |   |   |--- feature_9 <= 0.25\\n|   |   |   |   |--- feature_7 <= 0.38\\n|   |   |   |   |   |--- feature_7 <= 0.36\\n|   |   |   |   |   |   |--- feature_6 <= 0.36\\n|   |   |   |   |   |   |   |--- feature_1 <= 10.50\\n|   |   |   |   |   |   |   |   |--- feature_6 <= 0.34\\n|   |   |   |   |   |   |   |   |   |--- feature_9 <= 0.21\\n|   |   |   |   |   |   |   |   |   |   |--- feature_8 <= 0.55\\n|   |   |   |   |   |   |   |   |   |   |   |--- value: [1047.00]\\n|   |   |   |   |   |   |   |   |   |   |--- feature_8 >  0.55\\n|   |   |   |   |   |   |   |   |   |   |   |--- truncated branch of depth 2\\n|   |   |   |   |   |   |   |   |   |--- feature_9 >  0.21\\n|   |   |   |   |   |   |   |   |   |   |--- value: [724.00]\\n|   |   |   |   |   |   |   |   |--- feature_6 >  0.34\\n|   |   |   |   |   |   |   |   |   |--- feature_3 <= 3.00\\n|   |   |   |   |   |   |   |   |   |   |--- feature_7 <= 0.35\\n|   |   |   |   |   |   |   |   |   |   |   |--- truncated branch of depth 2\\n|   |   |   |   |   |   |   |   |   |   |--- feature_7 >  0.35\\n|   |   |   |   |   |   |   |   |   |   |   |--- value: [694.00]\\n|   |   |   |   |   |   |   |   |   |--- feature_3 >  3.00\\n|   |   |   |   |   |   |   |   |   |   |--- value: [879.00]\\n|   |   |   |   |   |   |   |--- feature_1 >  10.50\\n|   |   |   |   |   |   |   |   |--- feature_8 <= 0.57\\n|   |   |   |   |   |   |   |   |   |--- feature_8 <= 0.51\\n|   |   |   |   |   |   |   |   |   |   |--- value: [943.00]\\n|   |   |   |   |   |   |   |   |   |--- feature_8 >  0.51\\n|   |   |   |   |   |   |   |   |   |   |--- feature_8 <= 0.53\\n|   |   |   |   |   |   |   |   |   |   |   |--- value: [1156.00]\\n|   |   |   |   |   |   |   |   |   |   |--- feature_8 >  0.53\\n|   |   |   |   |   |   |   |   |   |   |   |--- truncated branch of depth 2\\n|   |   |   |   |   |   |   |   |--- feature_8 >  0.57\\n|   |   |   |   |   |   |   |   |   |--- feature_9 <= 0.10\\n|   |   |   |   |   |   |   |   |   |   |--- feature_8 <= 0.66\\n|   |   |   |   |   |   |   |   |   |   |   |--- value: [955.00]\\n|   |   |   |   |   |   |   |   |   |   |--- feature_8 >  0.66\\n|   |   |   |   |   |   |   |   |   |   |   |--- truncated branch of depth 2\\n|   |   |   |   |   |   |   |   |   |--- feature_9 >  0.10\\n|   |   |   |   |   |   |   |   |   |   |--- feature_1 <= 11.50\\n|   |   |   |   |   |   |   |   |   |   |   |--- value: [922.00]\\n|   |   |   |   |   |   |   |   |   |   |--- feature_1 >  11.50\\n|   |   |   |   |   |   |   |   |   |   |   |--- value: [767.00]\\n|   |   |   |   |   |   |--- feature_6 >  0.36\\n|   |   |   |   |   |   |   |--- value: [1658.00]\\n|   |   |   |   |   |--- feature_7 >  0.36\\n|   |   |   |   |   |   |--- feature_1 <= 6.00\\n|   |   |   |   |   |   |   |--- value: [331.00]\\n|   |   |   |   |   |   |--- feature_1 >  6.00\\n|   |   |   |   |   |   |   |--- feature_6 <= 0.37\\n|   |   |   |   |   |   |   |   |--- value: [538.00]\\n|   |   |   |   |   |   |   |--- feature_6 >  0.37\\n|   |   |   |   |   |   |   |   |--- value: [560.00]\\n|   |   |   |   |--- feature_7 >  0.38\\n|   |   |   |   |   |--- feature_9 <= 0.24\\n|   |   |   |   |   |   |--- feature_9 <= 0.15\\n|   |   |   |   |   |   |   |--- feature_8 <= 0.67\\n|   |   |   |   |   |   |   |   |--- feature_3 <= 3.00\\n|   |   |   |   |   |   |   |   |   |--- value: [2290.00]\\n|   |   |   |   |   |   |   |   |--- feature_3 >  3.00\\n|   |   |   |   |   |   |   |   |   |--- value: [2252.00]\\n|   |   |   |   |   |   |   |--- feature_8 >  0.67\\n|   |   |   |   |   |   |   |   |--- feature_6 <= 0.40\\n|   |   |   |   |   |   |   |   |   |--- feature_1 <= 11.50\\n|   |   |   |   |   |   |   |   |   |   |--- value: [1249.00]\\n|   |   |   |   |   |   |   |   |   |--- feature_1 >  11.50\\n|   |   |   |   |   |   |   |   |   |   |--- value: [1153.00]\\n|   |   |   |   |   |   |   |   |--- feature_6 >  0.40\\n|   |   |   |   |   |   |   |   |   |--- value: [1619.00]\\n|   |   |   |   |   |   |--- feature_9 >  0.15\\n|   |   |   |   |   |   |   |--- feature_8 <= 0.51\\n|   |   |   |   |   |   |   |   |--- value: [1651.00]\\n|   |   |   |   |   |   |   |--- feature_8 >  0.51\\n|   |   |   |   |   |   |   |   |--- feature_9 <= 0.20\\n|   |   |   |   |   |   |   |   |   |--- feature_9 <= 0.15\\n|   |   |   |   |   |   |   |   |   |   |--- value: [1188.00]\\n|   |   |   |   |   |   |   |   |   |--- feature_9 >  0.15\\n|   |   |   |   |   |   |   |   |   |   |--- feature_8 <= 0.58\\n|   |   |   |   |   |   |   |   |   |   |   |--- value: [1070.00]\\n|   |   |   |   |   |   |   |   |   |   |--- feature_8 >  0.58\\n|   |   |   |   |   |   |   |   |   |   |   |--- truncated branch of depth 2\\n|   |   |   |   |   |   |   |   |--- feature_9 >  0.20\\n|   |   |   |   |   |   |   |   |   |--- feature_2 <= 0.50\\n|   |   |   |   |   |   |   |   |   |   |--- value: [665.00]\\n|   |   |   |   |   |   |   |   |   |--- feature_2 >  0.50\\n|   |   |   |   |   |   |   |   |   |   |--- value: [642.00]\\n|   |   |   |   |   |--- feature_9 >  0.24\\n|   |   |   |   |   |   |--- value: [2301.00]\\n|   |   |   |--- feature_9 >  0.25\\n|   |   |   |   |--- feature_8 <= 0.81\\n|   |   |   |   |   |--- feature_8 <= 0.49\\n|   |   |   |   |   |   |--- value: [397.00]\\n|   |   |   |   |   |--- feature_8 >  0.49\\n|   |   |   |   |   |   |--- feature_8 <= 0.64\\n|   |   |   |   |   |   |   |--- value: [982.00]\\n|   |   |   |   |   |   |--- feature_8 >  0.64\\n|   |   |   |   |   |   |   |--- feature_8 <= 0.77\\n|   |   |   |   |   |   |   |   |--- value: [480.00]\\n|   |   |   |   |   |   |   |--- feature_8 >  0.77\\n|   |   |   |   |   |   |   |   |--- value: [640.00]\\n|   |   |   |   |--- feature_8 >  0.81\\n|   |   |   |   |   |--- feature_6 <= 0.41\\n|   |   |   |   |   |   |--- value: [120.00]\\n|   |   |   |   |   |--- feature_6 >  0.41\\n|   |   |   |   |   |   |--- value: [121.00]\\n|   |--- feature_4 >  0.50\\n|   |   |--- feature_6 <= 0.34\\n|   |   |   |--- feature_1 <= 2.50\\n|   |   |   |   |--- feature_7 <= 0.29\\n|   |   |   |   |   |--- feature_7 <= 0.19\\n|   |   |   |   |   |   |--- feature_7 <= 0.14\\n|   |   |   |   |   |   |   |--- feature_8 <= 0.43\\n|   |   |   |   |   |   |   |   |--- value: [95.00]\\n|   |   |   |   |   |   |   |--- feature_8 >  0.43\\n|   |   |   |   |   |   |   |   |--- feature_7 <= 0.12\\n|   |   |   |   |   |   |   |   |   |--- value: [86.00]\\n|   |   |   |   |   |   |   |   |--- feature_7 >  0.12\\n|   |   |   |   |   |   |   |   |   |--- value: [89.00]\\n|   |   |   |   |   |   |--- feature_7 >  0.14\\n|   |   |   |   |   |   |   |--- feature_8 <= 0.46\\n|   |   |   |   |   |   |   |   |--- feature_3 <= 4.50\\n|   |   |   |   |   |   |   |   |   |--- value: [61.00]\\n|   |   |   |   |   |   |   |   |--- feature_3 >  4.50\\n|   |   |   |   |   |   |   |   |   |--- value: [75.00]\\n|   |   |   |   |   |   |   |--- feature_8 >  0.46\\n|   |   |   |   |   |   |   |   |--- feature_9 <= 0.30\\n|   |   |   |   |   |   |   |   |   |--- feature_9 <= 0.21\\n|   |   |   |   |   |   |   |   |   |   |--- feature_6 <= 0.17\\n|   |   |   |   |   |   |   |   |   |   |   |--- truncated branch of depth 2\\n|   |   |   |   |   |   |   |   |   |   |--- feature_6 >  0.17\\n|   |   |   |   |   |   |   |   |   |   |   |--- value: [42.00]\\n|   |   |   |   |   |   |   |   |   |--- feature_9 >  0.21\\n|   |   |   |   |   |   |   |   |   |   |--- feature_9 <= 0.26\\n|   |   |   |   |   |   |   |   |   |   |   |--- value: [41.00]\\n|   |   |   |   |   |   |   |   |   |   |--- feature_9 >  0.26\\n|   |   |   |   |   |   |   |   |   |   |   |--- value: [38.00]\\n|   |   |   |   |   |   |   |   |--- feature_9 >  0.30\\n|   |   |   |   |   |   |   |   |   |--- value: [25.00]\\n|   |   |   |   |   |--- feature_7 >  0.19\\n|   |   |   |   |   |   |--- feature_3 <= 4.50\\n|   |   |   |   |   |   |   |--- feature_9 <= 0.26\\n|   |   |   |   |   |   |   |   |--- feature_3 <= 2.50\\n|   |   |   |   |   |   |   |   |   |--- feature_5 <= 1.50\\n|   |   |   |   |   |   |   |   |   |   |--- feature_9 <= 0.19\\n|   |   |   |   |   |   |   |   |   |   |   |--- truncated branch of depth 2\\n|   |   |   |   |   |   |   |   |   |   |--- feature_9 >  0.19\\n|   |   |   |   |   |   |   |   |   |   |   |--- truncated branch of depth 2\\n|   |   |   |   |   |   |   |   |   |--- feature_5 >  1.50\\n|   |   |   |   |   |   |   |   |   |   |--- feature_3 <= 1.50\\n|   |   |   |   |   |   |   |   |   |   |   |--- truncated branch of depth 2\\n|   |   |   |   |   |   |   |   |   |   |--- feature_3 >  1.50\\n|   |   |   |   |   |   |   |   |   |   |   |--- value: [186.00]\\n|   |   |   |   |   |   |   |   |--- feature_3 >  2.50\\n|   |   |   |   |   |   |   |   |   |--- feature_8 <= 0.51\\n|   |   |   |   |   |   |   |   |   |   |--- feature_6 <= 0.22\\n|   |   |   |   |   |   |   |   |   |   |   |--- truncated branch of depth 2\\n|   |   |   |   |   |   |   |   |   |   |--- feature_6 >  0.22\\n|   |   |   |   |   |   |   |   |   |   |   |--- value: [82.00]\\n|   |   |   |   |   |   |   |   |   |--- feature_8 >  0.51\\n|   |   |   |   |   |   |   |   |   |   |--- feature_7 <= 0.23\\n|   |   |   |   |   |   |   |   |   |   |   |--- value: [15.00]\\n|   |   |   |   |   |   |   |   |   |   |--- feature_7 >  0.23\\n|   |   |   |   |   |   |   |   |   |   |   |--- truncated branch of depth 4\\n|   |   |   |   |   |   |   |--- feature_9 >  0.26\\n|   |   |   |   |   |   |   |   |--- feature_8 <= 0.82\\n|   |   |   |   |   |   |   |   |   |--- feature_6 <= 0.24\\n|   |   |   |   |   |   |   |   |   |   |--- value: [64.00]\\n|   |   |   |   |   |   |   |   |   |--- feature_6 >  0.24\\n|   |   |   |   |   |   |   |   |   |   |--- value: [72.00]\\n|   |   |   |   |   |   |   |   |--- feature_8 >  0.82\\n|   |   |   |   |   |   |   |   |   |--- value: [34.00]\\n|   |   |   |   |   |   |--- feature_3 >  4.50\\n|   |   |   |   |   |   |   |--- feature_8 <= 0.47\\n|   |   |   |   |   |   |   |   |--- value: [115.00]\\n|   |   |   |   |   |   |   |--- feature_8 >  0.47\\n|   |   |   |   |   |   |   |   |--- feature_6 <= 0.24\\n|   |   |   |   |   |   |   |   |   |--- feature_9 <= 0.14\\n|   |   |   |   |   |   |   |   |   |   |--- value: [149.00]\\n|   |   |   |   |   |   |   |   |   |--- feature_9 >  0.14\\n|   |   |   |   |   |   |   |   |   |   |--- value: [148.00]\\n|   |   |   |   |   |   |   |   |--- feature_6 >  0.24\\n|   |   |   |   |   |   |   |   |   |--- value: [174.00]\\n|   |   |   |   |--- feature_7 >  0.29\\n|   |   |   |   |   |--- feature_3 <= 4.50\\n|   |   |   |   |   |   |--- feature_7 <= 0.32\\n|   |   |   |   |   |   |   |--- feature_6 <= 0.31\\n|   |   |   |   |   |   |   |   |--- feature_3 <= 1.50\\n|   |   |   |   |   |   |   |   |   |--- value: [206.00]\\n|   |   |   |   |   |   |   |   |--- feature_3 >  1.50\\n|   |   |   |   |   |   |   |   |   |--- feature_8 <= 0.62\\n|   |   |   |   |   |   |   |   |   |   |--- value: [163.00]\\n|   |   |   |   |   |   |   |   |   |--- feature_8 >  0.62\\n|   |   |   |   |   |   |   |   |   |   |--- value: [173.00]\\n|   |   |   |   |   |   |   |--- feature_6 >  0.31\\n|   |   |   |   |   |   |   |   |--- value: [218.00]\\n|   |   |   |   |   |   |--- feature_7 >  0.32\\n|   |   |   |   |   |   |   |--- feature_9 <= 0.12\\n|   |   |   |   |   |   |   |   |--- value: [74.00]\\n|   |   |   |   |   |   |   |--- feature_9 >  0.12\\n|   |   |   |   |   |   |   |   |--- value: [135.00]\\n|   |   |   |   |   |--- feature_3 >  4.50\\n|   |   |   |   |   |   |--- feature_6 <= 0.30\\n|   |   |   |   |   |   |   |--- value: [227.00]\\n|   |   |   |   |   |   |--- feature_6 >  0.30\\n|   |   |   |   |   |   |   |--- feature_6 <= 0.32\\n|   |   |   |   |   |   |   |   |--- value: [310.00]\\n|   |   |   |   |   |   |   |--- feature_6 >  0.32\\n|   |   |   |   |   |   |   |   |--- value: [307.00]\\n|   |   |   |--- feature_1 >  2.50\\n|   |   |   |   |--- feature_9 <= 0.20\\n|   |   |   |   |   |--- feature_9 <= 0.12\\n|   |   |   |   |   |   |--- feature_9 <= 0.06\\n|   |   |   |   |   |   |   |--- feature_7 <= 0.33\\n|   |   |   |   |   |   |   |   |--- value: [362.00]\\n|   |   |   |   |   |   |   |--- feature_7 >  0.33\\n|   |   |   |   |   |   |   |   |--- value: [337.00]\\n|   |   |   |   |   |   |--- feature_9 >  0.06\\n|   |   |   |   |   |   |   |--- feature_9 <= 0.08\\n|   |   |   |   |   |   |   |   |--- feature_5 <= 1.50\\n|   |   |   |   |   |   |   |   |   |--- value: [143.00]\\n|   |   |   |   |   |   |   |   |--- feature_5 >  1.50\\n|   |   |   |   |   |   |   |   |   |--- feature_6 <= 0.27\\n|   |   |   |   |   |   |   |   |   |   |--- value: [174.00]\\n|   |   |   |   |   |   |   |   |   |--- feature_6 >  0.27\\n|   |   |   |   |   |   |   |   |   |   |--- value: [178.00]\\n|   |   |   |   |   |   |   |--- feature_9 >  0.08\\n|   |   |   |   |   |   |   |   |--- feature_3 <= 4.50\\n|   |   |   |   |   |   |   |   |   |--- feature_7 <= 0.28\\n|   |   |   |   |   |   |   |   |   |   |--- value: [254.00]\\n|   |   |   |   |   |   |   |   |   |--- feature_7 >  0.28\\n|   |   |   |   |   |   |   |   |   |   |--- value: [243.00]\\n|   |   |   |   |   |   |   |   |--- feature_3 >  4.50\\n|   |   |   |   |   |   |   |   |   |--- feature_9 <= 0.09\\n|   |   |   |   |   |   |   |   |   |   |--- value: [261.00]\\n|   |   |   |   |   |   |   |   |   |--- feature_9 >  0.09\\n|   |   |   |   |   |   |   |   |   |   |--- value: [268.00]\\n|   |   |   |   |   |--- feature_9 >  0.12\\n|   |   |   |   |   |   |--- feature_8 <= 0.64\\n|   |   |   |   |   |   |   |--- feature_8 <= 0.45\\n|   |   |   |   |   |   |   |   |--- feature_1 <= 7.00\\n|   |   |   |   |   |   |   |   |   |--- value: [316.00]\\n|   |   |   |   |   |   |   |   |--- feature_1 >  7.00\\n|   |   |   |   |   |   |   |   |   |--- value: [245.00]\\n|   |   |   |   |   |   |   |--- feature_8 >  0.45\\n|   |   |   |   |   |   |   |   |--- feature_3 <= 4.50\\n|   |   |   |   |   |   |   |   |   |--- feature_6 <= 0.30\\n|   |   |   |   |   |   |   |   |   |   |--- feature_9 <= 0.17\\n|   |   |   |   |   |   |   |   |   |   |   |--- truncated branch of depth 3\\n|   |   |   |   |   |   |   |   |   |   |--- feature_9 >  0.17\\n|   |   |   |   |   |   |   |   |   |   |   |--- truncated branch of depth 2\\n|   |   |   |   |   |   |   |   |   |--- feature_6 >  0.30\\n|   |   |   |   |   |   |   |   |   |   |--- feature_8 <= 0.52\\n|   |   |   |   |   |   |   |   |   |   |   |--- value: [359.00]\\n|   |   |   |   |   |   |   |   |   |   |--- feature_8 >  0.52\\n|   |   |   |   |   |   |   |   |   |   |   |--- truncated branch of depth 3\\n|   |   |   |   |   |   |   |   |--- feature_3 >  4.50\\n|   |   |   |   |   |   |   |   |   |--- feature_6 <= 0.30\\n|   |   |   |   |   |   |   |   |   |   |--- value: [429.00]\\n|   |   |   |   |   |   |   |   |   |--- feature_6 >  0.30\\n|   |   |   |   |   |   |   |   |   |   |--- value: [491.00]\\n|   |   |   |   |   |   |--- feature_8 >  0.64\\n|   |   |   |   |   |   |   |--- feature_6 <= 0.31\\n|   |   |   |   |   |   |   |   |--- value: [168.00]\\n|   |   |   |   |   |   |   |--- feature_6 >  0.31\\n|   |   |   |   |   |   |   |   |--- feature_9 <= 0.13\\n|   |   |   |   |   |   |   |   |   |--- value: [349.00]\\n|   |   |   |   |   |   |   |   |--- feature_9 >  0.13\\n|   |   |   |   |   |   |   |   |   |--- feature_7 <= 0.33\\n|   |   |   |   |   |   |   |   |   |   |--- value: [289.00]\\n|   |   |   |   |   |   |   |   |   |--- feature_7 >  0.33\\n|   |   |   |   |   |   |   |   |   |   |--- value: [314.00]\\n|   |   |   |   |--- feature_9 >  0.20\\n|   |   |   |   |   |--- feature_8 <= 0.78\\n|   |   |   |   |   |   |--- feature_9 <= 0.23\\n|   |   |   |   |   |   |   |--- feature_9 <= 0.21\\n|   |   |   |   |   |   |   |   |--- feature_3 <= 2.50\\n|   |   |   |   |   |   |   |   |   |--- feature_9 <= 0.21\\n|   |   |   |   |   |   |   |   |   |   |--- value: [221.00]\\n|   |   |   |   |   |   |   |   |   |--- feature_9 >  0.21\\n|   |   |   |   |   |   |   |   |   |   |--- value: [222.00]\\n|   |   |   |   |   |   |   |   |--- feature_3 >  2.50\\n|   |   |   |   |   |   |   |   |   |--- value: [198.00]\\n|   |   |   |   |   |   |   |--- feature_9 >  0.21\\n|   |   |   |   |   |   |   |   |--- feature_6 <= 0.28\\n|   |   |   |   |   |   |   |   |   |--- feature_3 <= 3.00\\n|   |   |   |   |   |   |   |   |   |   |--- value: [137.00]\\n|   |   |   |   |   |   |   |   |   |--- feature_3 >  3.00\\n|   |   |   |   |   |   |   |   |   |   |--- value: [123.00]\\n|   |   |   |   |   |   |   |   |--- feature_6 >  0.28\\n|   |   |   |   |   |   |   |   |   |--- feature_6 <= 0.32\\n|   |   |   |   |   |   |   |   |   |   |--- value: [191.00]\\n|   |   |   |   |   |   |   |   |   |--- feature_6 >  0.32\\n|   |   |   |   |   |   |   |   |   |   |--- value: [177.00]\\n|   |   |   |   |   |   |--- feature_9 >  0.23\\n|   |   |   |   |   |   |   |--- feature_3 <= 4.50\\n|   |   |   |   |   |   |   |   |--- feature_8 <= 0.56\\n|   |   |   |   |   |   |   |   |   |--- feature_0 <= 1.50\\n|   |   |   |   |   |   |   |   |   |   |--- feature_6 <= 0.25\\n|   |   |   |   |   |   |   |   |   |   |   |--- value: [203.00]\\n|   |   |   |   |   |   |   |   |   |   |--- feature_6 >  0.25\\n|   |   |   |   |   |   |   |   |   |   |   |--- truncated branch of depth 3\\n|   |   |   |   |   |   |   |   |   |--- feature_0 >  1.50\\n|   |   |   |   |   |   |   |   |   |   |--- feature_6 <= 0.30\\n|   |   |   |   |   |   |   |   |   |   |   |--- value: [326.00]\\n|   |   |   |   |   |   |   |   |   |   |--- feature_6 >  0.30\\n|   |   |   |   |   |   |   |   |   |   |   |--- value: [317.00]\\n|   |   |   |   |   |   |   |   |--- feature_8 >  0.56\\n|   |   |   |   |   |   |   |   |   |--- feature_8 <= 0.62\\n|   |   |   |   |   |   |   |   |   |   |--- feature_7 <= 0.29\\n|   |   |   |   |   |   |   |   |   |   |   |--- value: [150.00]\\n|   |   |   |   |   |   |   |   |   |   |--- feature_7 >  0.29\\n|   |   |   |   |   |   |   |   |   |   |   |--- value: [139.00]\\n|   |   |   |   |   |   |   |   |   |--- feature_8 >  0.62\\n|   |   |   |   |   |   |   |   |   |   |--- feature_1 <= 8.00\\n|   |   |   |   |   |   |   |   |   |   |   |--- value: [195.00]\\n|   |   |   |   |   |   |   |   |   |   |--- feature_1 >  8.00\\n|   |   |   |   |   |   |   |   |   |   |   |--- value: [247.00]\\n|   |   |   |   |   |   |   |--- feature_3 >  4.50\\n|   |   |   |   |   |   |   |   |--- feature_9 <= 0.23\\n|   |   |   |   |   |   |   |   |   |--- value: [456.00]\\n|   |   |   |   |   |   |   |   |--- feature_9 >  0.23\\n|   |   |   |   |   |   |   |   |   |--- feature_7 <= 0.29\\n|   |   |   |   |   |   |   |   |   |   |--- feature_7 <= 0.27\\n|   |   |   |   |   |   |   |   |   |   |   |--- value: [300.00]\\n|   |   |   |   |   |   |   |   |   |   |--- feature_7 >  0.27\\n|   |   |   |   |   |   |   |   |   |   |   |--- value: [307.00]\\n|   |   |   |   |   |   |   |   |   |--- feature_7 >  0.29\\n|   |   |   |   |   |   |   |   |   |   |--- value: [247.00]\\n|   |   |   |   |   |--- feature_8 >  0.78\\n|   |   |   |   |   |   |--- feature_7 <= 0.24\\n|   |   |   |   |   |   |   |--- value: [9.00]\\n|   |   |   |   |   |   |--- feature_7 >  0.24\\n|   |   |   |   |   |   |   |--- feature_7 <= 0.28\\n|   |   |   |   |   |   |   |   |--- feature_9 <= 0.23\\n|   |   |   |   |   |   |   |   |   |--- value: [179.00]\\n|   |   |   |   |   |   |   |   |--- feature_9 >  0.23\\n|   |   |   |   |   |   |   |   |   |--- value: [166.00]\\n|   |   |   |   |   |   |   |--- feature_7 >  0.28\\n|   |   |   |   |   |   |   |   |--- feature_1 <= 10.50\\n|   |   |   |   |   |   |   |   |   |--- value: [87.00]\\n|   |   |   |   |   |   |   |   |--- feature_1 >  10.50\\n|   |   |   |   |   |   |   |   |   |--- value: [123.00]\\n|   |   |--- feature_6 >  0.34\\n|   |   |   |--- feature_3 <= 4.50\\n|   |   |   |   |--- feature_8 <= 0.48\\n|   |   |   |   |   |--- feature_7 <= 0.42\\n|   |   |   |   |   |   |--- feature_8 <= 0.44\\n|   |   |   |   |   |   |   |--- feature_6 <= 0.40\\n|   |   |   |   |   |   |   |   |--- feature_9 <= 0.23\\n|   |   |   |   |   |   |   |   |   |--- value: [229.00]\\n|   |   |   |   |   |   |   |   |--- feature_9 >  0.23\\n|   |   |   |   |   |   |   |   |   |--- feature_6 <= 0.37\\n|   |   |   |   |   |   |   |   |   |   |--- value: [340.00]\\n|   |   |   |   |   |   |   |   |   |--- feature_6 >  0.37\\n|   |   |   |   |   |   |   |   |   |   |--- value: [324.00]\\n|   |   |   |   |   |   |   |--- feature_6 >  0.40\\n|   |   |   |   |   |   |   |   |--- value: [208.00]\\n|   |   |   |   |   |   |--- feature_8 >  0.44\\n|   |   |   |   |   |   |   |--- feature_3 <= 3.50\\n|   |   |   |   |   |   |   |   |--- feature_8 <= 0.47\\n|   |   |   |   |   |   |   |   |   |--- feature_9 <= 0.27\\n|   |   |   |   |   |   |   |   |   |   |--- value: [518.00]\\n|   |   |   |   |   |   |   |   |   |--- feature_9 >  0.27\\n|   |   |   |   |   |   |   |   |   |   |--- value: [482.00]\\n|   |   |   |   |   |   |   |   |--- feature_8 >  0.47\\n|   |   |   |   |   |   |   |   |   |--- value: [413.00]\\n|   |   |   |   |   |   |   |--- feature_3 >  3.50\\n|   |   |   |   |   |   |   |   |--- value: [663.00]\\n|   |   |   |   |   |--- feature_7 >  0.42\\n|   |   |   |   |   |   |--- feature_7 <= 0.43\\n|   |   |   |   |   |   |   |--- value: [1192.00]\\n|   |   |   |   |   |   |--- feature_7 >  0.43\\n|   |   |   |   |   |   |   |--- feature_1 <= 3.50\\n|   |   |   |   |   |   |   |   |--- value: [795.00]\\n|   |   |   |   |   |   |   |--- feature_1 >  3.50\\n|   |   |   |   |   |   |   |   |--- feature_0 <= 3.00\\n|   |   |   |   |   |   |   |   |   |--- value: [819.00]\\n|   |   |   |   |   |   |   |   |--- feature_0 >  3.00\\n|   |   |   |   |   |   |   |   |   |--- value: [834.00]\\n|   |   |   |   |--- feature_8 >  0.48\\n|   |   |   |   |   |--- feature_5 <= 1.50\\n|   |   |   |   |   |   |--- feature_8 <= 0.55\\n|   |   |   |   |   |   |   |--- feature_1 <= 2.50\\n|   |   |   |   |   |   |   |   |--- feature_9 <= 0.21\\n|   |   |   |   |   |   |   |   |   |--- feature_6 <= 0.35\\n|   |   |   |   |   |   |   |   |   |   |--- value: [141.00]\\n|   |   |   |   |   |   |   |   |   |--- feature_6 >  0.35\\n|   |   |   |   |   |   |   |   |   |   |--- value: [199.00]\\n|   |   |   |   |   |   |   |   |--- feature_9 >  0.21\\n|   |   |   |   |   |   |   |   |   |--- feature_9 <= 0.25\\n|   |   |   |   |   |   |   |   |   |   |--- value: [259.00]\\n|   |   |   |   |   |   |   |   |   |--- feature_9 >  0.25\\n|   |   |   |   |   |   |   |   |   |   |--- value: [253.00]\\n|   |   |   |   |   |   |   |--- feature_1 >  2.50\\n|   |   |   |   |   |   |   |   |--- feature_0 <= 2.50\\n|   |   |   |   |   |   |   |   |   |--- value: [432.00]\\n|   |   |   |   |   |   |   |   |--- feature_0 >  2.50\\n|   |   |   |   |   |   |   |   |   |--- value: [331.00]\\n|   |   |   |   |   |   |--- feature_8 >  0.55\\n|   |   |   |   |   |   |   |--- feature_8 <= 0.65\\n|   |   |   |   |   |   |   |   |--- feature_9 <= 0.19\\n|   |   |   |   |   |   |   |   |   |--- feature_7 <= 0.40\\n|   |   |   |   |   |   |   |   |   |   |--- value: [615.00]\\n|   |   |   |   |   |   |   |   |   |--- feature_7 >  0.40\\n|   |   |   |   |   |   |   |   |   |   |--- value: [571.00]\\n|   |   |   |   |   |   |   |   |--- feature_9 >  0.19\\n|   |   |   |   |   |   |   |   |   |--- feature_0 <= 1.50\\n|   |   |   |   |   |   |   |   |   |   |--- value: [394.00]\\n|   |   |   |   |   |   |   |   |   |--- feature_0 >  1.50\\n|   |   |   |   |   |   |   |   |   |   |--- value: [460.00]\\n|   |   |   |   |   |   |   |--- feature_8 >  0.65\\n|   |   |   |   |   |   |   |   |--- feature_9 <= 0.10\\n|   |   |   |   |   |   |   |   |   |--- feature_9 <= 0.07\\n|   |   |   |   |   |   |   |   |   |   |--- value: [305.00]\\n|   |   |   |   |   |   |   |   |   |--- feature_9 >  0.07\\n|   |   |   |   |   |   |   |   |   |   |--- feature_3 <= 2.50\\n|   |   |   |   |   |   |   |   |   |   |   |--- value: [376.00]\\n|   |   |   |   |   |   |   |   |   |   |--- feature_3 >  2.50\\n|   |   |   |   |   |   |   |   |   |   |   |--- value: [370.00]\\n|   |   |   |   |   |   |   |   |--- feature_9 >  0.10\\n|   |   |   |   |   |   |   |   |   |--- feature_1 <= 6.00\\n|   |   |   |   |   |   |   |   |   |   |--- value: [439.00]\\n|   |   |   |   |   |   |   |   |   |--- feature_1 >  6.00\\n|   |   |   |   |   |   |   |   |   |   |--- feature_9 <= 0.18\\n|   |   |   |   |   |   |   |   |   |   |   |--- value: [410.00]\\n|   |   |   |   |   |   |   |   |   |   |--- feature_9 >  0.18\\n|   |   |   |   |   |   |   |   |   |   |   |--- value: [433.00]\\n|   |   |   |   |   |--- feature_5 >  1.50\\n|   |   |   |   |   |   |--- feature_6 <= 0.38\\n|   |   |   |   |   |   |   |--- feature_9 <= 0.17\\n|   |   |   |   |   |   |   |   |--- feature_1 <= 10.50\\n|   |   |   |   |   |   |   |   |   |--- value: [330.00]\\n|   |   |   |   |   |   |   |   |--- feature_1 >  10.50\\n|   |   |   |   |   |   |   |   |   |--- feature_6 <= 0.37\\n|   |   |   |   |   |   |   |   |   |   |--- value: [466.00]\\n|   |   |   |   |   |   |   |   |   |--- feature_6 >  0.37\\n|   |   |   |   |   |   |   |   |   |   |--- value: [534.00]\\n|   |   |   |   |   |   |   |--- feature_9 >  0.17\\n|   |   |   |   |   |   |   |   |--- feature_9 <= 0.35\\n|   |   |   |   |   |   |   |   |   |--- feature_8 <= 0.82\\n|   |   |   |   |   |   |   |   |   |   |--- feature_8 <= 0.79\\n|   |   |   |   |   |   |   |   |   |   |   |--- truncated branch of depth 3\\n|   |   |   |   |   |   |   |   |   |   |--- feature_8 >  0.79\\n|   |   |   |   |   |   |   |   |   |   |   |--- value: [269.00]\\n|   |   |   |   |   |   |   |   |   |--- feature_8 >  0.82\\n|   |   |   |   |   |   |   |   |   |   |--- value: [203.00]\\n|   |   |   |   |   |   |   |   |--- feature_9 >  0.35\\n|   |   |   |   |   |   |   |   |   |--- value: [127.00]\\n|   |   |   |   |   |   |--- feature_6 >  0.38\\n|   |   |   |   |   |   |   |--- feature_9 <= 0.26\\n|   |   |   |   |   |   |   |   |--- feature_1 <= 3.00\\n|   |   |   |   |   |   |   |   |   |--- value: [190.00]\\n|   |   |   |   |   |   |   |   |--- feature_1 >  3.00\\n|   |   |   |   |   |   |   |   |   |--- feature_7 <= 0.40\\n|   |   |   |   |   |   |   |   |   |   |--- value: [233.00]\\n|   |   |   |   |   |   |   |   |   |--- feature_7 >  0.40\\n|   |   |   |   |   |   |   |   |   |   |--- feature_7 <= 0.42\\n|   |   |   |   |   |   |   |   |   |   |   |--- truncated branch of depth 3\\n|   |   |   |   |   |   |   |   |   |   |--- feature_7 >  0.42\\n|   |   |   |   |   |   |   |   |   |   |   |--- truncated branch of depth 2\\n|   |   |   |   |   |   |   |--- feature_9 >  0.26\\n|   |   |   |   |   |   |   |   |--- feature_8 <= 0.75\\n|   |   |   |   |   |   |   |   |   |--- feature_8 <= 0.69\\n|   |   |   |   |   |   |   |   |   |   |--- feature_8 <= 0.64\\n|   |   |   |   |   |   |   |   |   |   |   |--- value: [181.00]\\n|   |   |   |   |   |   |   |   |   |   |--- feature_8 >  0.64\\n|   |   |   |   |   |   |   |   |   |   |   |--- value: [167.00]\\n|   |   |   |   |   |   |   |   |   |--- feature_8 >  0.69\\n|   |   |   |   |   |   |   |   |   |   |--- value: [255.00]\\n|   |   |   |   |   |   |   |   |--- feature_8 >  0.75\\n|   |   |   |   |   |   |   |   |   |--- feature_8 <= 0.88\\n|   |   |   |   |   |   |   |   |   |   |--- feature_7 <= 0.42\\n|   |   |   |   |   |   |   |   |   |   |   |--- value: [81.00]\\n|   |   |   |   |   |   |   |   |   |   |--- feature_7 >  0.42\\n|   |   |   |   |   |   |   |   |   |   |   |--- value: [112.00]\\n|   |   |   |   |   |   |   |   |   |--- feature_8 >  0.88\\n|   |   |   |   |   |   |   |   |   |   |--- feature_3 <= 2.00\\n|   |   |   |   |   |   |   |   |   |   |   |--- value: [2.00]\\n|   |   |   |   |   |   |   |   |   |   |--- feature_3 >  2.00\\n|   |   |   |   |   |   |   |   |   |   |   |--- value: [50.00]\\n|   |   |   |--- feature_3 >  4.50\\n|   |   |   |   |--- feature_8 <= 0.39\\n|   |   |   |   |   |--- value: [1807.00]\\n|   |   |   |   |--- feature_8 >  0.39\\n|   |   |   |   |   |--- feature_5 <= 1.50\\n|   |   |   |   |   |   |--- feature_9 <= 0.16\\n|   |   |   |   |   |   |   |--- feature_7 <= 0.38\\n|   |   |   |   |   |   |   |   |--- value: [1603.00]\\n|   |   |   |   |   |   |   |--- feature_7 >  0.38\\n|   |   |   |   |   |   |   |   |--- value: [1095.00]\\n|   |   |   |   |   |   |--- feature_9 >  0.16\\n|   |   |   |   |   |   |   |--- feature_7 <= 0.35\\n|   |   |   |   |   |   |   |   |--- value: [484.00]\\n|   |   |   |   |   |   |   |--- feature_7 >  0.35\\n|   |   |   |   |   |   |   |   |--- feature_7 <= 0.36\\n|   |   |   |   |   |   |   |   |   |--- value: [709.00]\\n|   |   |   |   |   |   |   |   |--- feature_7 >  0.36\\n|   |   |   |   |   |   |   |   |   |--- value: [618.00]\\n|   |   |   |   |   |--- feature_5 >  1.50\\n|   |   |   |   |   |   |--- feature_7 <= 0.37\\n|   |   |   |   |   |   |   |--- feature_7 <= 0.36\\n|   |   |   |   |   |   |   |   |--- value: [178.00]\\n|   |   |   |   |   |   |   |--- feature_7 >  0.36\\n|   |   |   |   |   |   |   |   |--- value: [246.00]\\n|   |   |   |   |   |   |--- feature_7 >  0.37\\n|   |   |   |   |   |   |   |--- feature_7 <= 0.39\\n|   |   |   |   |   |   |   |   |--- value: [796.00]\\n|   |   |   |   |   |   |   |--- feature_7 >  0.39\\n|   |   |   |   |   |   |   |   |--- feature_6 <= 0.42\\n|   |   |   |   |   |   |   |   |   |--- feature_6 <= 0.41\\n|   |   |   |   |   |   |   |   |   |   |--- value: [470.00]\\n|   |   |   |   |   |   |   |   |   |--- feature_6 >  0.41\\n|   |   |   |   |   |   |   |   |   |   |--- value: [447.00]\\n|   |   |   |   |   |   |   |   |--- feature_6 >  0.42\\n|   |   |   |   |   |   |   |   |   |--- value: [548.00]\\n|--- feature_6 >  0.45\\n|   |--- feature_4 <= 0.50\\n|   |   |--- feature_8 <= 0.83\\n|   |   |   |--- feature_1 <= 10.50\\n|   |   |   |   |--- feature_9 <= 0.28\\n|   |   |   |   |   |--- feature_7 <= 0.77\\n|   |   |   |   |   |   |--- feature_8 <= 0.67\\n|   |   |   |   |   |   |   |--- feature_9 <= 0.09\\n|   |   |   |   |   |   |   |   |--- value: [3065.00]\\n|   |   |   |   |   |   |   |--- feature_9 >  0.09\\n|   |   |   |   |   |   |   |   |--- feature_8 <= 0.66\\n|   |   |   |   |   |   |   |   |   |--- feature_9 <= 0.15\\n|   |   |   |   |   |   |   |   |   |   |--- feature_9 <= 0.14\\n|   |   |   |   |   |   |   |   |   |   |   |--- truncated branch of depth 8\\n|   |   |   |   |   |   |   |   |   |   |--- feature_9 >  0.14\\n|   |   |   |   |   |   |   |   |   |   |   |--- truncated branch of depth 3\\n|   |   |   |   |   |   |   |   |   |--- feature_9 >  0.15\\n|   |   |   |   |   |   |   |   |   |   |--- feature_9 <= 0.16\\n|   |   |   |   |   |   |   |   |   |   |   |--- truncated branch of depth 4\\n|   |   |   |   |   |   |   |   |   |   |--- feature_9 >  0.16\\n|   |   |   |   |   |   |   |   |   |   |   |--- truncated branch of depth 10\\n|   |   |   |   |   |   |   |   |--- feature_8 >  0.66\\n|   |   |   |   |   |   |   |   |   |--- value: [3031.00]\\n|   |   |   |   |   |   |--- feature_8 >  0.67\\n|   |   |   |   |   |   |   |--- feature_7 <= 0.67\\n|   |   |   |   |   |   |   |   |--- feature_6 <= 0.51\\n|   |   |   |   |   |   |   |   |   |--- feature_0 <= 1.50\\n|   |   |   |   |   |   |   |   |   |   |--- value: [2207.00]\\n|   |   |   |   |   |   |   |   |   |--- feature_0 >  1.50\\n|   |   |   |   |   |   |   |   |   |   |--- feature_8 <= 0.74\\n|   |   |   |   |   |   |   |   |   |   |   |--- truncated branch of depth 2\\n|   |   |   |   |   |   |   |   |   |   |--- feature_8 >  0.74\\n|   |   |   |   |   |   |   |   |   |   |   |--- value: [1138.00]\\n|   |   |   |   |   |   |   |   |--- feature_6 >  0.51\\n|   |   |   |   |   |   |   |   |   |--- feature_1 <= 4.00\\n|   |   |   |   |   |   |   |   |   |   |--- value: [3155.00]\\n|   |   |   |   |   |   |   |   |   |--- feature_1 >  4.00\\n|   |   |   |   |   |   |   |   |   |   |--- feature_6 <= 0.69\\n|   |   |   |   |   |   |   |   |   |   |   |--- truncated branch of depth 7\\n|   |   |   |   |   |   |   |   |   |   |--- feature_6 >  0.69\\n|   |   |   |   |   |   |   |   |   |   |   |--- truncated branch of depth 6\\n|   |   |   |   |   |   |   |--- feature_7 >  0.67\\n|   |   |   |   |   |   |   |   |--- feature_6 <= 0.74\\n|   |   |   |   |   |   |   |   |   |--- feature_3 <= 0.50\\n|   |   |   |   |   |   |   |   |   |   |--- feature_7 <= 0.70\\n|   |   |   |   |   |   |   |   |   |   |   |--- value: [1249.00]\\n|   |   |   |   |   |   |   |   |   |   |--- feature_7 >  0.70\\n|   |   |   |   |   |   |   |   |   |   |   |--- value: [1298.00]\\n|   |   |   |   |   |   |   |   |   |--- feature_3 >  0.50\\n|   |   |   |   |   |   |   |   |   |   |--- feature_7 <= 0.67\\n|   |   |   |   |   |   |   |   |   |   |   |--- value: [1549.00]\\n|   |   |   |   |   |   |   |   |   |   |--- feature_7 >  0.67\\n|   |   |   |   |   |   |   |   |   |   |   |--- value: [1521.00]\\n|   |   |   |   |   |   |   |   |--- feature_6 >  0.74\\n|   |   |   |   |   |   |   |   |   |--- value: [1920.00]\\n|   |   |   |   |   |--- feature_7 >  0.77\\n|   |   |   |   |   |   |--- feature_9 <= 0.13\\n|   |   |   |   |   |   |   |--- value: [1203.00]\\n|   |   |   |   |   |   |--- feature_9 >  0.13\\n|   |   |   |   |   |   |   |--- value: [987.00]\\n|   |   |   |   |--- feature_9 >  0.28\\n|   |   |   |   |   |--- feature_6 <= 0.47\\n|   |   |   |   |   |   |--- value: [1558.00]\\n|   |   |   |   |   |--- feature_6 >  0.47\\n|   |   |   |   |   |   |--- feature_5 <= 1.50\\n|   |   |   |   |   |   |   |--- value: [1198.00]\\n|   |   |   |   |   |   |--- feature_5 >  1.50\\n|   |   |   |   |   |   |   |--- value: [998.00]\\n|   |   |   |--- feature_1 >  10.50\\n|   |   |   |   |--- feature_6 <= 0.47\\n|   |   |   |   |   |--- value: [787.00]\\n|   |   |   |   |--- feature_6 >  0.47\\n|   |   |   |   |   |--- value: [1097.00]\\n|   |   |--- feature_8 >  0.83\\n|   |   |   |--- feature_6 <= 0.67\\n|   |   |   |   |--- feature_8 <= 0.88\\n|   |   |   |   |   |--- feature_6 <= 0.61\\n|   |   |   |   |   |   |--- value: [1582.00]\\n|   |   |   |   |   |--- feature_6 >  0.61\\n|   |   |   |   |   |   |--- value: [1483.00]\\n|   |   |   |   |--- feature_8 >  0.88\\n|   |   |   |   |   |--- feature_9 <= 0.21\\n|   |   |   |   |   |   |--- feature_9 <= 0.16\\n|   |   |   |   |   |   |   |--- value: [902.00]\\n|   |   |   |   |   |   |--- feature_9 >  0.16\\n|   |   |   |   |   |   |   |--- value: [1033.00]\\n|   |   |   |   |   |--- feature_9 >  0.21\\n|   |   |   |   |   |   |--- value: [1462.00]\\n|   |   |   |--- feature_6 >  0.67\\n|   |   |   |   |--- value: [226.00]\\n|   |--- feature_4 >  0.50\\n|   |   |--- feature_8 <= 0.83\\n|   |   |   |--- feature_3 <= 4.50\\n|   |   |   |   |--- feature_7 <= 0.53\\n|   |   |   |   |   |--- feature_9 <= 0.10\\n|   |   |   |   |   |   |--- feature_9 <= 0.10\\n|   |   |   |   |   |   |   |--- feature_7 <= 0.51\\n|   |   |   |   |   |   |   |   |--- feature_6 <= 0.51\\n|   |   |   |   |   |   |   |   |   |--- feature_1 <= 7.00\\n|   |   |   |   |   |   |   |   |   |   |--- value: [846.00]\\n|   |   |   |   |   |   |   |   |   |--- feature_1 >  7.00\\n|   |   |   |   |   |   |   |   |   |   |--- value: [830.00]\\n|   |   |   |   |   |   |   |   |--- feature_6 >  0.51\\n|   |   |   |   |   |   |   |   |   |--- value: [763.00]\\n|   |   |   |   |   |   |   |--- feature_7 >  0.51\\n|   |   |   |   |   |   |   |   |--- value: [1122.00]\\n|   |   |   |   |   |   |--- feature_9 >  0.10\\n|   |   |   |   |   |   |   |--- value: [1348.00]\\n|   |   |   |   |   |--- feature_9 >  0.10\\n|   |   |   |   |   |   |--- feature_9 <= 0.23\\n|   |   |   |   |   |   |   |--- feature_3 <= 2.50\\n|   |   |   |   |   |   |   |   |--- feature_8 <= 0.64\\n|   |   |   |   |   |   |   |   |   |--- feature_6 <= 0.47\\n|   |   |   |   |   |   |   |   |   |   |--- feature_9 <= 0.19\\n|   |   |   |   |   |   |   |   |   |   |   |--- value: [922.00]\\n|   |   |   |   |   |   |   |   |   |   |--- feature_9 >  0.19\\n|   |   |   |   |   |   |   |   |   |   |   |--- value: [838.00]\\n|   |   |   |   |   |   |   |   |   |--- feature_6 >  0.47\\n|   |   |   |   |   |   |   |   |   |   |--- feature_0 <= 3.00\\n|   |   |   |   |   |   |   |   |   |   |   |--- truncated branch of depth 3\\n|   |   |   |   |   |   |   |   |   |   |--- feature_0 >  3.00\\n|   |   |   |   |   |   |   |   |   |   |   |--- truncated branch of depth 2\\n|   |   |   |   |   |   |   |   |--- feature_8 >  0.64\\n|   |   |   |   |   |   |   |   |   |--- feature_9 <= 0.14\\n|   |   |   |   |   |   |   |   |   |   |--- feature_5 <= 1.50\\n|   |   |   |   |   |   |   |   |   |   |   |--- value: [699.00]\\n|   |   |   |   |   |   |   |   |   |   |--- feature_5 >  1.50\\n|   |   |   |   |   |   |   |   |   |   |   |--- value: [637.00]\\n|   |   |   |   |   |   |   |   |   |--- feature_9 >  0.14\\n|   |   |   |   |   |   |   |   |   |   |--- feature_7 <= 0.48\\n|   |   |   |   |   |   |   |   |   |   |   |--- value: [486.00]\\n|   |   |   |   |   |   |   |   |   |   |--- feature_7 >  0.48\\n|   |   |   |   |   |   |   |   |   |   |   |--- value: [409.00]\\n|   |   |   |   |   |   |   |--- feature_3 >  2.50\\n|   |   |   |   |   |   |   |   |--- feature_7 <= 0.50\\n|   |   |   |   |   |   |   |   |   |--- feature_9 <= 0.13\\n|   |   |   |   |   |   |   |   |   |   |--- value: [655.00]\\n|   |   |   |   |   |   |   |   |   |--- feature_9 >  0.13\\n|   |   |   |   |   |   |   |   |   |   |--- feature_6 <= 0.46\\n|   |   |   |   |   |   |   |   |   |   |   |--- value: [516.00]\\n|   |   |   |   |   |   |   |   |   |   |--- feature_6 >  0.46\\n|   |   |   |   |   |   |   |   |   |   |   |--- truncated branch of depth 4\\n|   |   |   |   |   |   |   |   |--- feature_7 >  0.50\\n|   |   |   |   |   |   |   |   |   |--- feature_3 <= 3.50\\n|   |   |   |   |   |   |   |   |   |   |--- feature_1 <= 7.50\\n|   |   |   |   |   |   |   |   |   |   |   |--- value: [550.00]\\n|   |   |   |   |   |   |   |   |   |   |--- feature_1 >  7.50\\n|   |   |   |   |   |   |   |   |   |   |   |--- value: [559.00]\\n|   |   |   |   |   |   |   |   |   |--- feature_3 >  3.50\\n|   |   |   |   |   |   |   |   |   |   |--- feature_5 <= 1.50\\n|   |   |   |   |   |   |   |   |   |   |   |--- value: [695.00]\\n|   |   |   |   |   |   |   |   |   |   |--- feature_5 >  1.50\\n|   |   |   |   |   |   |   |   |   |   |   |--- value: [735.00]\\n|   |   |   |   |   |   |--- feature_9 >  0.23\\n|   |   |   |   |   |   |   |--- feature_7 <= 0.47\\n|   |   |   |   |   |   |   |   |--- feature_9 <= 0.37\\n|   |   |   |   |   |   |   |   |   |--- feature_9 <= 0.31\\n|   |   |   |   |   |   |   |   |   |   |--- value: [614.00]\\n|   |   |   |   |   |   |   |   |   |--- feature_9 >  0.31\\n|   |   |   |   |   |   |   |   |   |   |--- value: [745.00]\\n|   |   |   |   |   |   |   |   |--- feature_9 >  0.37\\n|   |   |   |   |   |   |   |   |   |--- value: [471.00]\\n|   |   |   |   |   |   |   |--- feature_7 >  0.47\\n|   |   |   |   |   |   |   |   |--- feature_8 <= 0.55\\n|   |   |   |   |   |   |   |   |   |--- feature_6 <= 0.49\\n|   |   |   |   |   |   |   |   |   |   |--- value: [905.00]\\n|   |   |   |   |   |   |   |   |   |--- feature_6 >  0.49\\n|   |   |   |   |   |   |   |   |   |   |--- value: [834.00]\\n|   |   |   |   |   |   |   |   |--- feature_8 >  0.55\\n|   |   |   |   |   |   |   |   |   |--- value: [1008.00]\\n|   |   |   |   |--- feature_7 >  0.53\\n|   |   |   |   |   |--- feature_9 <= 0.13\\n|   |   |   |   |   |   |--- feature_7 <= 0.72\\n|   |   |   |   |   |   |   |--- feature_6 <= 0.68\\n|   |   |   |   |   |   |   |   |--- feature_8 <= 0.82\\n|   |   |   |   |   |   |   |   |   |--- feature_9 <= 0.09\\n|   |   |   |   |   |   |   |   |   |   |--- feature_7 <= 0.59\\n|   |   |   |   |   |   |   |   |   |   |   |--- truncated branch of depth 2\\n|   |   |   |   |   |   |   |   |   |   |--- feature_7 >  0.59\\n|   |   |   |   |   |   |   |   |   |   |   |--- truncated branch of depth 2\\n|   |   |   |   |   |   |   |   |   |--- feature_9 >  0.09\\n|   |   |   |   |   |   |   |   |   |   |--- feature_6 <= 0.64\\n|   |   |   |   |   |   |   |   |   |   |   |--- truncated branch of depth 6\\n|   |   |   |   |   |   |   |   |   |   |--- feature_6 >  0.64\\n|   |   |   |   |   |   |   |   |   |   |   |--- truncated branch of depth 3\\n|   |   |   |   |   |   |   |   |--- feature_8 >  0.82\\n|   |   |   |   |   |   |   |   |   |--- value: [1334.00]\\n|   |   |   |   |   |   |   |--- feature_6 >  0.68\\n|   |   |   |   |   |   |   |   |--- feature_9 <= 0.12\\n|   |   |   |   |   |   |   |   |   |--- feature_8 <= 0.59\\n|   |   |   |   |   |   |   |   |   |   |--- value: [1177.00]\\n|   |   |   |   |   |   |   |   |   |--- feature_8 >  0.59\\n|   |   |   |   |   |   |   |   |   |   |--- feature_9 <= 0.10\\n|   |   |   |   |   |   |   |   |   |   |   |--- value: [1363.00]\\n|   |   |   |   |   |   |   |   |   |   |--- feature_9 >  0.10\\n|   |   |   |   |   |   |   |   |   |   |   |--- truncated branch of depth 2\\n|   |   |   |   |   |   |   |   |--- feature_9 >  0.12\\n|   |   |   |   |   |   |   |   |   |--- feature_7 <= 0.71\\n|   |   |   |   |   |   |   |   |   |   |--- feature_7 <= 0.68\\n|   |   |   |   |   |   |   |   |   |   |   |--- value: [989.00]\\n|   |   |   |   |   |   |   |   |   |   |--- feature_7 >  0.68\\n|   |   |   |   |   |   |   |   |   |   |   |--- truncated branch of depth 2\\n|   |   |   |   |   |   |   |   |   |--- feature_7 >  0.71\\n|   |   |   |   |   |   |   |   |   |   |--- value: [1233.00]\\n|   |   |   |   |   |   |--- feature_7 >  0.72\\n|   |   |   |   |   |   |   |--- feature_6 <= 0.78\\n|   |   |   |   |   |   |   |   |--- feature_3 <= 1.50\\n|   |   |   |   |   |   |   |   |   |--- value: [568.00]\\n|   |   |   |   |   |   |   |   |--- feature_3 >  1.50\\n|   |   |   |   |   |   |   |   |   |--- value: [673.00]\\n|   |   |   |   |   |   |   |--- feature_6 >  0.78\\n|   |   |   |   |   |   |   |   |--- feature_3 <= 3.50\\n|   |   |   |   |   |   |   |   |   |--- feature_9 <= 0.11\\n|   |   |   |   |   |   |   |   |   |   |--- value: [872.00]\\n|   |   |   |   |   |   |   |   |   |--- feature_9 >  0.11\\n|   |   |   |   |   |   |   |   |   |   |--- value: [921.00]\\n|   |   |   |   |   |   |   |   |--- feature_3 >  3.50\\n|   |   |   |   |   |   |   |   |   |--- value: [778.00]\\n|   |   |   |   |   |--- feature_9 >  0.13\\n|   |   |   |   |   |   |--- feature_8 <= 0.53\\n|   |   |   |   |   |   |   |--- feature_7 <= 0.73\\n|   |   |   |   |   |   |   |   |--- feature_9 <= 0.15\\n|   |   |   |   |   |   |   |   |   |--- value: [1281.00]\\n|   |   |   |   |   |   |   |   |--- feature_9 >  0.15\\n|   |   |   |   |   |   |   |   |   |--- feature_8 <= 0.51\\n|   |   |   |   |   |   |   |   |   |   |--- feature_1 <= 6.50\\n|   |   |   |   |   |   |   |   |   |   |   |--- truncated branch of depth 6\\n|   |   |   |   |   |   |   |   |   |   |--- feature_1 >  6.50\\n|   |   |   |   |   |   |   |   |   |   |   |--- truncated branch of depth 4\\n|   |   |   |   |   |   |   |   |   |--- feature_8 >  0.51\\n|   |   |   |   |   |   |   |   |   |   |--- feature_6 <= 0.65\\n|   |   |   |   |   |   |   |   |   |   |   |--- value: [1242.00]\\n|   |   |   |   |   |   |   |   |   |   |--- feature_6 >  0.65\\n|   |   |   |   |   |   |   |   |   |   |   |--- value: [1032.00]\\n|   |   |   |   |   |   |   |--- feature_7 >  0.73\\n|   |   |   |   |   |   |   |   |--- value: [1405.00]\\n|   |   |   |   |   |   |--- feature_8 >  0.53\\n|   |   |   |   |   |   |   |--- feature_5 <= 1.50\\n|   |   |   |   |   |   |   |   |--- feature_9 <= 0.17\\n|   |   |   |   |   |   |   |   |   |--- feature_9 <= 0.17\\n|   |   |   |   |   |   |   |   |   |   |--- feature_3 <= 3.50\\n|   |   |   |   |   |   |   |   |   |   |   |--- truncated branch of depth 7\\n|   |   |   |   |   |   |   |   |   |   |--- feature_3 >  3.50\\n|   |   |   |   |   |   |   |   |   |   |   |--- truncated branch of depth 2\\n|   |   |   |   |   |   |   |   |   |--- feature_9 >  0.17\\n|   |   |   |   |   |   |   |   |   |   |--- feature_7 <= 0.67\\n|   |   |   |   |   |   |   |   |   |   |   |--- value: [1198.00]\\n|   |   |   |   |   |   |   |   |   |   |--- feature_7 >  0.67\\n|   |   |   |   |   |   |   |   |   |   |   |--- value: [1128.00]\\n|   |   |   |   |   |   |   |   |--- feature_9 >  0.17\\n|   |   |   |   |   |   |   |   |   |--- feature_6 <= 0.78\\n|   |   |   |   |   |   |   |   |   |   |--- feature_7 <= 0.66\\n|   |   |   |   |   |   |   |   |   |   |   |--- truncated branch of depth 7\\n|   |   |   |   |   |   |   |   |   |   |--- feature_7 >  0.66\\n|   |   |   |   |   |   |   |   |   |   |   |--- truncated branch of depth 5\\n|   |   |   |   |   |   |   |   |   |--- feature_6 >  0.78\\n|   |   |   |   |   |   |   |   |   |   |--- feature_7 <= 0.74\\n|   |   |   |   |   |   |   |   |   |   |   |--- value: [662.00]\\n|   |   |   |   |   |   |   |   |   |   |--- feature_7 >  0.74\\n|   |   |   |   |   |   |   |   |   |   |   |--- value: [606.00]\\n|   |   |   |   |   |   |   |--- feature_5 >  1.50\\n|   |   |   |   |   |   |   |   |--- feature_3 <= 1.50\\n|   |   |   |   |   |   |   |   |   |--- feature_8 <= 0.76\\n|   |   |   |   |   |   |   |   |   |   |--- feature_6 <= 0.57\\n|   |   |   |   |   |   |   |   |   |   |   |--- truncated branch of depth 2\\n|   |   |   |   |   |   |   |   |   |   |--- feature_6 >  0.57\\n|   |   |   |   |   |   |   |   |   |   |   |--- truncated branch of depth 4\\n|   |   |   |   |   |   |   |   |   |--- feature_8 >  0.76\\n|   |   |   |   |   |   |   |   |   |   |--- feature_8 <= 0.79\\n|   |   |   |   |   |   |   |   |   |   |   |--- value: [653.00]\\n|   |   |   |   |   |   |   |   |   |   |--- feature_8 >  0.79\\n|   |   |   |   |   |   |   |   |   |   |   |--- value: [630.00]\\n|   |   |   |   |   |   |   |   |--- feature_3 >  1.50\\n|   |   |   |   |   |   |   |   |   |--- feature_9 <= 0.19\\n|   |   |   |   |   |   |   |   |   |   |--- feature_9 <= 0.15\\n|   |   |   |   |   |   |   |   |   |   |   |--- truncated branch of depth 5\\n|   |   |   |   |   |   |   |   |   |   |--- feature_9 >  0.15\\n|   |   |   |   |   |   |   |   |   |   |   |--- truncated branch of depth 3\\n|   |   |   |   |   |   |   |   |   |--- feature_9 >  0.19\\n|   |   |   |   |   |   |   |   |   |   |--- feature_1 <= 8.00\\n|   |   |   |   |   |   |   |   |   |   |   |--- truncated branch of depth 5\\n|   |   |   |   |   |   |   |   |   |   |--- feature_1 >  8.00\\n|   |   |   |   |   |   |   |   |   |   |   |--- value: [428.00]\\n|   |   |   |--- feature_3 >  4.50\\n|   |   |   |   |--- feature_1 <= 4.00\\n|   |   |   |   |   |--- value: [2469.00]\\n|   |   |   |   |--- feature_1 >  4.00\\n|   |   |   |   |   |--- feature_8 <= 0.72\\n|   |   |   |   |   |   |--- feature_9 <= 0.12\\n|   |   |   |   |   |   |   |--- feature_9 <= 0.08\\n|   |   |   |   |   |   |   |   |--- value: [1325.00]\\n|   |   |   |   |   |   |   |--- feature_9 >  0.08\\n|   |   |   |   |   |   |   |   |--- feature_8 <= 0.65\\n|   |   |   |   |   |   |   |   |   |--- feature_7 <= 0.62\\n|   |   |   |   |   |   |   |   |   |   |--- value: [1516.00]\\n|   |   |   |   |   |   |   |   |   |--- feature_7 >  0.62\\n|   |   |   |   |   |   |   |   |   |   |--- value: [1511.00]\\n|   |   |   |   |   |   |   |   |--- feature_8 >  0.65\\n|   |   |   |   |   |   |   |   |   |--- value: [1379.00]\\n|   |   |   |   |   |   |--- feature_9 >  0.12\\n|   |   |   |   |   |   |   |--- feature_7 <= 0.77\\n|   |   |   |   |   |   |   |   |--- feature_1 <= 6.50\\n|   |   |   |   |   |   |   |   |   |--- feature_8 <= 0.52\\n|   |   |   |   |   |   |   |   |   |   |--- feature_8 <= 0.36\\n|   |   |   |   |   |   |   |   |   |   |   |--- value: [898.00]\\n|   |   |   |   |   |   |   |   |   |   |--- feature_8 >  0.36\\n|   |   |   |   |   |   |   |   |   |   |   |--- truncated branch of depth 2\\n|   |   |   |   |   |   |   |   |   |--- feature_8 >  0.52\\n|   |   |   |   |   |   |   |   |   |   |--- feature_0 <= 2.50\\n|   |   |   |   |   |   |   |   |   |   |   |--- truncated branch of depth 3\\n|   |   |   |   |   |   |   |   |   |   |--- feature_0 >  2.50\\n|   |   |   |   |   |   |   |   |   |   |   |--- truncated branch of depth 2\\n|   |   |   |   |   |   |   |   |--- feature_1 >  6.50\\n|   |   |   |   |   |   |   |   |   |--- feature_6 <= 0.72\\n|   |   |   |   |   |   |   |   |   |   |--- feature_6 <= 0.69\\n|   |   |   |   |   |   |   |   |   |   |   |--- truncated branch of depth 2\\n|   |   |   |   |   |   |   |   |   |   |--- feature_6 >  0.69\\n|   |   |   |   |   |   |   |   |   |   |   |--- truncated branch of depth 3\\n|   |   |   |   |   |   |   |   |   |--- feature_6 >  0.72\\n|   |   |   |   |   |   |   |   |   |   |--- feature_8 <= 0.51\\n|   |   |   |   |   |   |   |   |   |   |   |--- value: [1366.00]\\n|   |   |   |   |   |   |   |   |   |   |--- feature_8 >  0.51\\n|   |   |   |   |   |   |   |   |   |   |   |--- truncated branch of depth 2\\n|   |   |   |   |   |   |   |--- feature_7 >  0.77\\n|   |   |   |   |   |   |   |   |--- feature_8 <= 0.52\\n|   |   |   |   |   |   |   |   |   |--- value: [829.00]\\n|   |   |   |   |   |   |   |   |--- feature_8 >  0.52\\n|   |   |   |   |   |   |   |   |   |--- value: [670.00]\\n|   |   |   |   |   |--- feature_8 >  0.72\\n|   |   |   |   |   |   |--- feature_9 <= 0.20\\n|   |   |   |   |   |   |   |--- feature_1 <= 5.50\\n|   |   |   |   |   |   |   |   |--- feature_7 <= 0.58\\n|   |   |   |   |   |   |   |   |   |--- value: [909.00]\\n|   |   |   |   |   |   |   |   |--- feature_7 >  0.58\\n|   |   |   |   |   |   |   |   |   |--- value: [1417.00]\\n|   |   |   |   |   |   |   |--- feature_1 >  5.50\\n|   |   |   |   |   |   |   |   |--- feature_7 <= 0.53\\n|   |   |   |   |   |   |   |   |   |--- value: [1182.00]\\n|   |   |   |   |   |   |   |   |--- feature_7 >  0.53\\n|   |   |   |   |   |   |   |   |   |--- feature_9 <= 0.16\\n|   |   |   |   |   |   |   |   |   |   |--- feature_9 <= 0.14\\n|   |   |   |   |   |   |   |   |   |   |   |--- truncated branch of depth 2\\n|   |   |   |   |   |   |   |   |   |   |--- feature_9 >  0.14\\n|   |   |   |   |   |   |   |   |   |   |   |--- truncated branch of depth 2\\n|   |   |   |   |   |   |   |   |   |--- feature_9 >  0.16\\n|   |   |   |   |   |   |   |   |   |   |--- value: [1045.00]\\n|   |   |   |   |   |   |--- feature_9 >  0.20\\n|   |   |   |   |   |   |   |--- feature_1 <= 8.00\\n|   |   |   |   |   |   |   |   |--- value: [533.00]\\n|   |   |   |   |   |   |   |--- feature_1 >  8.00\\n|   |   |   |   |   |   |   |   |--- value: [529.00]\\n|   |   |--- feature_8 >  0.83\\n|   |   |   |--- feature_5 <= 2.50\\n|   |   |   |   |--- feature_8 <= 0.94\\n|   |   |   |   |   |--- feature_1 <= 5.50\\n|   |   |   |   |   |   |--- feature_6 <= 0.53\\n|   |   |   |   |   |   |   |--- value: [692.00]\\n|   |   |   |   |   |   |--- feature_6 >  0.53\\n|   |   |   |   |   |   |   |--- feature_3 <= 2.50\\n|   |   |   |   |   |   |   |   |--- value: [678.00]\\n|   |   |   |   |   |   |   |--- feature_3 >  2.50\\n|   |   |   |   |   |   |   |   |--- feature_6 <= 0.59\\n|   |   |   |   |   |   |   |   |   |--- value: [536.00]\\n|   |   |   |   |   |   |   |   |--- feature_6 >  0.59\\n|   |   |   |   |   |   |   |   |   |--- value: [547.00]\\n|   |   |   |   |   |--- feature_1 >  5.50\\n|   |   |   |   |   |   |--- feature_3 <= 3.50\\n|   |   |   |   |   |   |   |--- feature_7 <= 0.55\\n|   |   |   |   |   |   |   |   |--- value: [438.00]\\n|   |   |   |   |   |   |   |--- feature_7 >  0.55\\n|   |   |   |   |   |   |   |   |--- feature_6 <= 0.64\\n|   |   |   |   |   |   |   |   |   |--- value: [480.00]\\n|   |   |   |   |   |   |   |   |--- feature_6 >  0.64\\n|   |   |   |   |   |   |   |   |   |--- value: [477.00]\\n|   |   |   |   |   |   |--- feature_3 >  3.50\\n|   |   |   |   |   |   |   |--- value: [555.00]\\n|   |   |   |   |--- feature_8 >  0.94\\n|   |   |   |   |   |--- value: [258.00]\\n|   |   |   |--- feature_5 >  2.50\\n|   |   |   |   |--- feature_6 <= 0.50\\n|   |   |   |   |   |--- value: [126.00]\\n|   |   |   |   |--- feature_6 >  0.50\\n|   |   |   |   |   |--- feature_6 <= 0.57\\n|   |   |   |   |   |   |--- feature_7 <= 0.51\\n|   |   |   |   |   |   |   |--- value: [254.00]\\n|   |   |   |   |   |   |--- feature_7 >  0.51\\n|   |   |   |   |   |   |   |--- feature_9 <= 0.30\\n|   |   |   |   |   |   |   |   |--- value: [217.00]\\n|   |   |   |   |   |   |   |--- feature_9 >  0.30\\n|   |   |   |   |   |   |   |   |--- value: [204.00]\\n|   |   |   |   |   |--- feature_6 >  0.57\\n|   |   |   |   |   |   |--- value: [315.00]\\n'"
            ]
          },
          "metadata": {},
          "execution_count": 73
        }
      ]
    },
    {
      "cell_type": "code",
      "metadata": {
        "colab": {
          "base_uri": "https://localhost:8080/",
          "height": 316
        },
        "id": "Cy0H8SWz_AWB",
        "outputId": "05132ae0-5118-4272-d9d0-07b423cd0bc0"
      },
      "source": [
        "# Evaluate the model using the test data\n",
        "predictions = model.predict(X_test)\n",
        "mse = mean_squared_error(y_test, predictions)\n",
        "print(\"MSE:\", mse)\n",
        "rmse = np.sqrt(mse)\n",
        "print(\"RMSE:\", rmse)\n",
        "r2 = r2_score(y_test, predictions)\n",
        "print(\"R2:\", r2)\n",
        "\n",
        "# Plot predicted vs actual\n",
        "plt.scatter(y_test, predictions)\n",
        "plt.xlabel=('Actual Labels')\n",
        "plt.ylabel=('predicted labels')\n",
        "plt.title=('Bike Rental Predictions')\n",
        "# overlay the regression line\n",
        "z = np.polyfit(y_test, predictions, 1)\n",
        "p = np.poly1d(z)\n",
        "plt.plot(y_test,p(y_test), color='magenta')\n",
        "plt.show()"
      ],
      "execution_count": 74,
      "outputs": [
        {
          "output_type": "stream",
          "text": [
            "MSE: 235161.03181818183\n",
            "RMSE: 484.9340489367413\n",
            "R2: 0.5389815566834255\n"
          ],
          "name": "stdout"
        },
        {
          "output_type": "display_data",
          "data": {
            "image/png": "[encoded data removed]",
            "text/plain": [
              "<Figure size 432x288 with 1 Axes>"
            ]
          },
          "metadata": {
            "needs_background": "light"
          }
        }
      ]
    },
    {
      "cell_type": "code",
      "metadata": {
        "colab": {
          "base_uri": "https://localhost:8080/"
        },
        "id": "nugU_oLP_zeU",
        "outputId": "d4d23536-99f9-4617-e031-3cdce9be13f1"
      },
      "source": [
        "from sklearn.ensemble import RandomForestRegressor\n",
        "\n",
        "model=RandomForestRegressor().fit(X_train, y_train)\n",
        "print(model,\"\\n\")"
      ],
      "execution_count": 75,
      "outputs": [
        {
          "output_type": "stream",
          "text": [
            "RandomForestRegressor(bootstrap=True, ccp_alpha=0.0, criterion='mse',\n",
            "                      max_depth=None, max_features='auto', max_leaf_nodes=None,\n",
            "                      max_samples=None, min_impurity_decrease=0.0,\n",
            "                      min_impurity_split=None, min_samples_leaf=1,\n",
            "                      min_samples_split=2, min_weight_fraction_leaf=0.0,\n",
            "                      n_estimators=100, n_jobs=None, oob_score=False,\n",
            "                      random_state=None, verbose=0, warm_start=False) \n",
            "\n"
          ],
          "name": "stdout"
        }
      ]
    },
    {
      "cell_type": "code",
      "metadata": {
        "colab": {
          "base_uri": "https://localhost:8080/",
          "height": 320
        },
        "id": "TCbMNMGp_zi0",
        "outputId": "004f63f5-7fac-48b3-d5f5-5695436acc0e"
      },
      "source": [
        "# Evaluate the model using the test data\n",
        "predictions = model.predict(X_test)\n",
        "mse = mean_squared_error(y_test, predictions)\n",
        "print(\"MSE:\", mse)\n",
        "rmse = np.sqrt(mse)\n",
        "print(\"RMSE:\", rmse)\n",
        "r2 = r2_score(y_test, predictions)\n",
        "print(\"R2:\", r2)\n",
        "\n",
        "# Plot predicted vs actual\n",
        "plt.scatter(y_test, predictions)\n",
        "plt.xlabel=('Actual Labels')\n",
        "plt.ylabel=('predicted labels')\n",
        "plt.title=('Bike Rental Predictions')\n",
        "# overlay the regression line\n",
        "z = np.polyfit(y_test, predictions, 1)\n",
        "p = np.poly1d(z)\n",
        "plt.plot(y_test,p(y_test), color='magenta')\n",
        "plt.show()"
      ],
      "execution_count": 76,
      "outputs": [
        {
          "output_type": "stream",
          "text": [
            "MSE: 113845.0619309091\n",
            "RMSE: 337.4093388317951\n",
            "R2: 0.7768139014152395\n"
          ],
          "name": "stdout"
        },
        {
          "output_type": "display_data",
          "data": {
            "image/png": "[encoded data removed]",
            "text/plain": [
              "<Figure size 432x288 with 1 Axes>"
            ]
          },
          "metadata": {
            "needs_background": "light"
          }
        }
      ]
    },
    {
      "cell_type": "code",
      "metadata": {
        "colab": {
          "base_uri": "https://localhost:8080/"
        },
        "id": "J8m7S8Su_zm6",
        "outputId": "6ce559e0-b391-4540-df13-048346975d51"
      },
      "source": [
        "from sklearn.ensemble import GradientBoostingClassifier\n",
        "\n",
        "model=GradientBoostingClassifier().fit(X_train, y_train)\n",
        "print(model,\"\\n\")"
      ],
      "execution_count": 77,
      "outputs": [
        {
          "output_type": "stream",
          "text": [
            "GradientBoostingClassifier(ccp_alpha=0.0, criterion='friedman_mse', init=None,\n",
            "                           learning_rate=0.1, loss='deviance', max_depth=3,\n",
            "                           max_features=None, max_leaf_nodes=None,\n",
            "                           min_impurity_decrease=0.0, min_impurity_split=None,\n",
            "                           min_samples_leaf=1, min_samples_split=2,\n",
            "                           min_weight_fraction_leaf=0.0, n_estimators=100,\n",
            "                           n_iter_no_change=None, presort='deprecated',\n",
            "                           random_state=None, subsample=1.0, tol=0.0001,\n",
            "                           validation_fraction=0.1, verbose=0,\n",
            "                           warm_start=False) \n",
            "\n"
          ],
          "name": "stdout"
        }
      ]
    },
    {
      "cell_type": "code",
      "metadata": {
        "colab": {
          "base_uri": "https://localhost:8080/",
          "height": 316
        },
        "id": "9bavyZiB_zqF",
        "outputId": "02a1ccc4-2154-4a97-b704-1d1a5fe59f43"
      },
      "source": [
        "# Evaluate the model using the test data\n",
        "predictions = model.predict(X_test)\n",
        "mse = mean_squared_error(y_test, predictions)\n",
        "print(\"MSE:\", mse)\n",
        "rmse = np.sqrt(mse)\n",
        "print(\"RMSE:\", rmse)\n",
        "r2 = r2_score(y_test, predictions)\n",
        "print(\"R2:\", r2)\n",
        "\n",
        "# Plot predicted vs actual\n",
        "plt.scatter(y_test, predictions)\n",
        "plt.xlabel=('Actual Labels')\n",
        "plt.ylabel=('predicted labels')\n",
        "plt.title=('Bike Rental Predictions')\n",
        "# overlay the regression line\n",
        "z = np.polyfit(y_test, predictions, 1)\n",
        "p = np.poly1d(z)\n",
        "plt.plot(y_test,p(y_test), color='magenta')\n",
        "plt.show()\n",
        "\n",
        "\n"
      ],
      "execution_count": 78,
      "outputs": [
        {
          "output_type": "stream",
          "text": [
            "MSE: 507214.16818181815\n",
            "RMSE: 712.1896995757648\n",
            "R2: 0.005638457888354598\n"
          ],
          "name": "stdout"
        },
        {
          "output_type": "display_data",
          "data": {
            "image/png": "[encoded data removed]",
            "text/plain": [
              "<Figure size 432x288 with 1 Axes>"
            ]
          },
          "metadata": {
            "needs_background": "light"
          }
        }
      ]
    }
  ]
}