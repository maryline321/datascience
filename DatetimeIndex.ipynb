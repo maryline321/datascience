{
  "nbformat": 4,
  "nbformat_minor": 0,
  "metadata": {
    "colab": {
      "name": "DatetimeIndex.ipynb",
      "provenance": [],
      "collapsed_sections": [],
      "authorship_tag": "ABX9TyN5db7dgtqxwA1zQyY51mik",
      "include_colab_link": true
    },
    "kernelspec": {
      "name": "python3",
      "display_name": "Python 3"
    },
    "language_info": {
      "name": "python"
    }
  },
  "cells": [
    {
      "cell_type": "markdown",
      "metadata": {
        "id": "view-in-github",
        "colab_type": "text"
      },
      "source": [
        "<a href=\"https://colab.research.google.com/github/maryline321/datascience/blob/main/DatetimeIndex.ipynb\" target=\"_parent\"><img src=\"https://colab.research.google.com/assets/colab-badge.svg\" alt=\"Open In Colab\"/></a>"
      ]
    },
    {
      "cell_type": "markdown",
      "metadata": {
        "id": "hqZewWPRenDc"
      },
      "source": [
        "**Extract month and year from column in Pandas, create new column**\n",
        "\n"
      ]
    },
    {
      "cell_type": "code",
      "metadata": {
        "id": "TqqmP-fUW91a"
      },
      "source": [
        "import pandas as pd\n",
        "import numpy as np\n",
        "import datetime"
      ],
      "execution_count": 21,
      "outputs": []
    },
    {
      "cell_type": "code",
      "metadata": {
        "colab": {
          "base_uri": "https://localhost:8080/",
          "height": 173
        },
        "id": "0EUL2Qlfaixd",
        "outputId": "be76b20e-9596-4949-a7eb-75b81b5c155e"
      },
      "source": [
        "raw_data = {'name': ['Maryline Chebet', 'Caroh Jones', 'Rita Sanchez', 'Sly Rop'],\n",
        "'age': [19, 20, 22, 21],\n",
        "'favorite_color': ['blue', 'red', 'yellow', \"green\"],\n",
        "'grade': [88, 92, 95, 70],\n",
        "'birth_date': ['01-02-1996', '08-05-1997', '04-28-1996', '12-16-1995']}\n",
        "df = pd.DataFrame(raw_data, index = ['Maryline Chebet', 'Caroh Jones', 'Rita Sanchez', 'Sly Rop'])\n",
        "df"
      ],
      "execution_count": 22,
      "outputs": [
        {
          "output_type": "execute_result",
          "data": {
            "text/html": [
              "<div>\n",
              "<style scoped>\n",
              "    .dataframe tbody tr th:only-of-type {\n",
              "        vertical-align: middle;\n",
              "    }\n",
              "\n",
              "    .dataframe tbody tr th {\n",
              "        vertical-align: top;\n",
              "    }\n",
              "\n",
              "    .dataframe thead th {\n",
              "        text-align: right;\n",
              "    }\n",
              "</style>\n",
              "<table border=\"1\" class=\"dataframe\">\n",
              "  <thead>\n",
              "    <tr style=\"text-align: right;\">\n",
              "      <th></th>\n",
              "      <th>name</th>\n",
              "      <th>age</th>\n",
              "      <th>favorite_color</th>\n",
              "      <th>grade</th>\n",
              "      <th>birth_date</th>\n",
              "    </tr>\n",
              "  </thead>\n",
              "  <tbody>\n",
              "    <tr>\n",
              "      <th>Maryline Chebet</th>\n",
              "      <td>Maryline Chebet</td>\n",
              "      <td>19</td>\n",
              "      <td>blue</td>\n",
              "      <td>88</td>\n",
              "      <td>01-02-1996</td>\n",
              "    </tr>\n",
              "    <tr>\n",
              "      <th>Caroh Jones</th>\n",
              "      <td>Caroh Jones</td>\n",
              "      <td>20</td>\n",
              "      <td>red</td>\n",
              "      <td>92</td>\n",
              "      <td>08-05-1997</td>\n",
              "    </tr>\n",
              "    <tr>\n",
              "      <th>Rita Sanchez</th>\n",
              "      <td>Rita Sanchez</td>\n",
              "      <td>22</td>\n",
              "      <td>yellow</td>\n",
              "      <td>95</td>\n",
              "      <td>04-28-1996</td>\n",
              "    </tr>\n",
              "    <tr>\n",
              "      <th>Sly Rop</th>\n",
              "      <td>Sly Rop</td>\n",
              "      <td>21</td>\n",
              "      <td>green</td>\n",
              "      <td>70</td>\n",
              "      <td>12-16-1995</td>\n",
              "    </tr>\n",
              "  </tbody>\n",
              "</table>\n",
              "</div>"
            ],
            "text/plain": [
              "                            name  age favorite_color  grade  birth_date\n",
              "Maryline Chebet  Maryline Chebet   19           blue     88  01-02-1996\n",
              "Caroh Jones          Caroh Jones   20            red     92  08-05-1997\n",
              "Rita Sanchez        Rita Sanchez   22         yellow     95  04-28-1996\n",
              "Sly Rop                  Sly Rop   21          green     70  12-16-1995"
            ]
          },
          "metadata": {
            "tags": []
          },
          "execution_count": 22
        }
      ]
    },
    {
      "cell_type": "code",
      "metadata": {
        "colab": {
          "base_uri": "https://localhost:8080/",
          "height": 173
        },
        "id": "TFgUfXAvai4B",
        "outputId": "39010df7-79e5-40be-8a02-f9936acd1275"
      },
      "source": [
        "# extract year from string format date\n",
        "df['year']=pd.DatetimeIndex(df['birth_date']).year\n",
        "df"
      ],
      "execution_count": 23,
      "outputs": [
        {
          "output_type": "execute_result",
          "data": {
            "text/html": [
              "<div>\n",
              "<style scoped>\n",
              "    .dataframe tbody tr th:only-of-type {\n",
              "        vertical-align: middle;\n",
              "    }\n",
              "\n",
              "    .dataframe tbody tr th {\n",
              "        vertical-align: top;\n",
              "    }\n",
              "\n",
              "    .dataframe thead th {\n",
              "        text-align: right;\n",
              "    }\n",
              "</style>\n",
              "<table border=\"1\" class=\"dataframe\">\n",
              "  <thead>\n",
              "    <tr style=\"text-align: right;\">\n",
              "      <th></th>\n",
              "      <th>name</th>\n",
              "      <th>age</th>\n",
              "      <th>favorite_color</th>\n",
              "      <th>grade</th>\n",
              "      <th>birth_date</th>\n",
              "      <th>year</th>\n",
              "    </tr>\n",
              "  </thead>\n",
              "  <tbody>\n",
              "    <tr>\n",
              "      <th>Maryline Chebet</th>\n",
              "      <td>Maryline Chebet</td>\n",
              "      <td>19</td>\n",
              "      <td>blue</td>\n",
              "      <td>88</td>\n",
              "      <td>01-02-1996</td>\n",
              "      <td>1996</td>\n",
              "    </tr>\n",
              "    <tr>\n",
              "      <th>Caroh Jones</th>\n",
              "      <td>Caroh Jones</td>\n",
              "      <td>20</td>\n",
              "      <td>red</td>\n",
              "      <td>92</td>\n",
              "      <td>08-05-1997</td>\n",
              "      <td>1997</td>\n",
              "    </tr>\n",
              "    <tr>\n",
              "      <th>Rita Sanchez</th>\n",
              "      <td>Rita Sanchez</td>\n",
              "      <td>22</td>\n",
              "      <td>yellow</td>\n",
              "      <td>95</td>\n",
              "      <td>04-28-1996</td>\n",
              "      <td>1996</td>\n",
              "    </tr>\n",
              "    <tr>\n",
              "      <th>Sly Rop</th>\n",
              "      <td>Sly Rop</td>\n",
              "      <td>21</td>\n",
              "      <td>green</td>\n",
              "      <td>70</td>\n",
              "      <td>12-16-1995</td>\n",
              "      <td>1995</td>\n",
              "    </tr>\n",
              "  </tbody>\n",
              "</table>\n",
              "</div>"
            ],
            "text/plain": [
              "                            name  age favorite_color  grade  birth_date  year\n",
              "Maryline Chebet  Maryline Chebet   19           blue     88  01-02-1996  1996\n",
              "Caroh Jones          Caroh Jones   20            red     92  08-05-1997  1997\n",
              "Rita Sanchez        Rita Sanchez   22         yellow     95  04-28-1996  1996\n",
              "Sly Rop                  Sly Rop   21          green     70  12-16-1995  1995"
            ]
          },
          "metadata": {
            "tags": []
          },
          "execution_count": 23
        }
      ]
    },
    {
      "cell_type": "code",
      "metadata": {
        "colab": {
          "base_uri": "https://localhost:8080/",
          "height": 173
        },
        "id": "i9ucqIRzcNGo",
        "outputId": "d0ccdc72-e8e3-42dc-a6f3-9f14ac748855"
      },
      "source": [
        "df['month']=pd.DatetimeIndex(df['birth_date']).month\n",
        "df"
      ],
      "execution_count": 24,
      "outputs": [
        {
          "output_type": "execute_result",
          "data": {
            "text/html": [
              "<div>\n",
              "<style scoped>\n",
              "    .dataframe tbody tr th:only-of-type {\n",
              "        vertical-align: middle;\n",
              "    }\n",
              "\n",
              "    .dataframe tbody tr th {\n",
              "        vertical-align: top;\n",
              "    }\n",
              "\n",
              "    .dataframe thead th {\n",
              "        text-align: right;\n",
              "    }\n",
              "</style>\n",
              "<table border=\"1\" class=\"dataframe\">\n",
              "  <thead>\n",
              "    <tr style=\"text-align: right;\">\n",
              "      <th></th>\n",
              "      <th>name</th>\n",
              "      <th>age</th>\n",
              "      <th>favorite_color</th>\n",
              "      <th>grade</th>\n",
              "      <th>birth_date</th>\n",
              "      <th>year</th>\n",
              "      <th>month</th>\n",
              "    </tr>\n",
              "  </thead>\n",
              "  <tbody>\n",
              "    <tr>\n",
              "      <th>Maryline Chebet</th>\n",
              "      <td>Maryline Chebet</td>\n",
              "      <td>19</td>\n",
              "      <td>blue</td>\n",
              "      <td>88</td>\n",
              "      <td>01-02-1996</td>\n",
              "      <td>1996</td>\n",
              "      <td>1</td>\n",
              "    </tr>\n",
              "    <tr>\n",
              "      <th>Caroh Jones</th>\n",
              "      <td>Caroh Jones</td>\n",
              "      <td>20</td>\n",
              "      <td>red</td>\n",
              "      <td>92</td>\n",
              "      <td>08-05-1997</td>\n",
              "      <td>1997</td>\n",
              "      <td>8</td>\n",
              "    </tr>\n",
              "    <tr>\n",
              "      <th>Rita Sanchez</th>\n",
              "      <td>Rita Sanchez</td>\n",
              "      <td>22</td>\n",
              "      <td>yellow</td>\n",
              "      <td>95</td>\n",
              "      <td>04-28-1996</td>\n",
              "      <td>1996</td>\n",
              "      <td>4</td>\n",
              "    </tr>\n",
              "    <tr>\n",
              "      <th>Sly Rop</th>\n",
              "      <td>Sly Rop</td>\n",
              "      <td>21</td>\n",
              "      <td>green</td>\n",
              "      <td>70</td>\n",
              "      <td>12-16-1995</td>\n",
              "      <td>1995</td>\n",
              "      <td>12</td>\n",
              "    </tr>\n",
              "  </tbody>\n",
              "</table>\n",
              "</div>"
            ],
            "text/plain": [
              "                            name  age favorite_color  ...  birth_date  year  month\n",
              "Maryline Chebet  Maryline Chebet   19           blue  ...  01-02-1996  1996      1\n",
              "Caroh Jones          Caroh Jones   20            red  ...  08-05-1997  1997      8\n",
              "Rita Sanchez        Rita Sanchez   22         yellow  ...  04-28-1996  1996      4\n",
              "Sly Rop                  Sly Rop   21          green  ...  12-16-1995  1995     12\n",
              "\n",
              "[4 rows x 7 columns]"
            ]
          },
          "metadata": {
            "tags": []
          },
          "execution_count": 24
        }
      ]
    },
    {
      "cell_type": "code",
      "metadata": {
        "id": "w99awe_Mc-pL"
      },
      "source": [
        "#del df[\"date\"]"
      ],
      "execution_count": 25,
      "outputs": []
    },
    {
      "cell_type": "code",
      "metadata": {
        "colab": {
          "base_uri": "https://localhost:8080/",
          "height": 173
        },
        "id": "AwhAO6gGdu2x",
        "outputId": "5d4fb05f-e4cd-49e1-e703-909084fe258c"
      },
      "source": [
        "df"
      ],
      "execution_count": 26,
      "outputs": [
        {
          "output_type": "execute_result",
          "data": {
            "text/html": [
              "<div>\n",
              "<style scoped>\n",
              "    .dataframe tbody tr th:only-of-type {\n",
              "        vertical-align: middle;\n",
              "    }\n",
              "\n",
              "    .dataframe tbody tr th {\n",
              "        vertical-align: top;\n",
              "    }\n",
              "\n",
              "    .dataframe thead th {\n",
              "        text-align: right;\n",
              "    }\n",
              "</style>\n",
              "<table border=\"1\" class=\"dataframe\">\n",
              "  <thead>\n",
              "    <tr style=\"text-align: right;\">\n",
              "      <th></th>\n",
              "      <th>name</th>\n",
              "      <th>age</th>\n",
              "      <th>favorite_color</th>\n",
              "      <th>grade</th>\n",
              "      <th>birth_date</th>\n",
              "      <th>year</th>\n",
              "      <th>month</th>\n",
              "    </tr>\n",
              "  </thead>\n",
              "  <tbody>\n",
              "    <tr>\n",
              "      <th>Maryline Chebet</th>\n",
              "      <td>Maryline Chebet</td>\n",
              "      <td>19</td>\n",
              "      <td>blue</td>\n",
              "      <td>88</td>\n",
              "      <td>01-02-1996</td>\n",
              "      <td>1996</td>\n",
              "      <td>1</td>\n",
              "    </tr>\n",
              "    <tr>\n",
              "      <th>Caroh Jones</th>\n",
              "      <td>Caroh Jones</td>\n",
              "      <td>20</td>\n",
              "      <td>red</td>\n",
              "      <td>92</td>\n",
              "      <td>08-05-1997</td>\n",
              "      <td>1997</td>\n",
              "      <td>8</td>\n",
              "    </tr>\n",
              "    <tr>\n",
              "      <th>Rita Sanchez</th>\n",
              "      <td>Rita Sanchez</td>\n",
              "      <td>22</td>\n",
              "      <td>yellow</td>\n",
              "      <td>95</td>\n",
              "      <td>04-28-1996</td>\n",
              "      <td>1996</td>\n",
              "      <td>4</td>\n",
              "    </tr>\n",
              "    <tr>\n",
              "      <th>Sly Rop</th>\n",
              "      <td>Sly Rop</td>\n",
              "      <td>21</td>\n",
              "      <td>green</td>\n",
              "      <td>70</td>\n",
              "      <td>12-16-1995</td>\n",
              "      <td>1995</td>\n",
              "      <td>12</td>\n",
              "    </tr>\n",
              "  </tbody>\n",
              "</table>\n",
              "</div>"
            ],
            "text/plain": [
              "                            name  age favorite_color  ...  birth_date  year  month\n",
              "Maryline Chebet  Maryline Chebet   19           blue  ...  01-02-1996  1996      1\n",
              "Caroh Jones          Caroh Jones   20            red  ...  08-05-1997  1997      8\n",
              "Rita Sanchez        Rita Sanchez   22         yellow  ...  04-28-1996  1996      4\n",
              "Sly Rop                  Sly Rop   21          green  ...  12-16-1995  1995     12\n",
              "\n",
              "[4 rows x 7 columns]"
            ]
          },
          "metadata": {
            "tags": []
          },
          "execution_count": 26
        }
      ]
    },
    {
      "cell_type": "code",
      "metadata": {
        "colab": {
          "base_uri": "https://localhost:8080/",
          "height": 173
        },
        "id": "q2GhzNAaeGx4",
        "outputId": "62721636-57d5-4fdc-863a-b82e40cbc701"
      },
      "source": [
        "#if the date format comes in datetime, we can also extract the day/month/year using the to_period function\n",
        "#where 'D', 'M', 'Y' are inputs\n",
        "\n",
        "df['month_year'] = pd.to_datetime(df['birth_date']).dt.to_period('M')\n",
        "df.head()"
      ],
      "execution_count": 27,
      "outputs": [
        {
          "output_type": "execute_result",
          "data": {
            "text/html": [
              "<div>\n",
              "<style scoped>\n",
              "    .dataframe tbody tr th:only-of-type {\n",
              "        vertical-align: middle;\n",
              "    }\n",
              "\n",
              "    .dataframe tbody tr th {\n",
              "        vertical-align: top;\n",
              "    }\n",
              "\n",
              "    .dataframe thead th {\n",
              "        text-align: right;\n",
              "    }\n",
              "</style>\n",
              "<table border=\"1\" class=\"dataframe\">\n",
              "  <thead>\n",
              "    <tr style=\"text-align: right;\">\n",
              "      <th></th>\n",
              "      <th>name</th>\n",
              "      <th>age</th>\n",
              "      <th>favorite_color</th>\n",
              "      <th>grade</th>\n",
              "      <th>birth_date</th>\n",
              "      <th>year</th>\n",
              "      <th>month</th>\n",
              "      <th>month_year</th>\n",
              "    </tr>\n",
              "  </thead>\n",
              "  <tbody>\n",
              "    <tr>\n",
              "      <th>Maryline Chebet</th>\n",
              "      <td>Maryline Chebet</td>\n",
              "      <td>19</td>\n",
              "      <td>blue</td>\n",
              "      <td>88</td>\n",
              "      <td>01-02-1996</td>\n",
              "      <td>1996</td>\n",
              "      <td>1</td>\n",
              "      <td>1996-01</td>\n",
              "    </tr>\n",
              "    <tr>\n",
              "      <th>Caroh Jones</th>\n",
              "      <td>Caroh Jones</td>\n",
              "      <td>20</td>\n",
              "      <td>red</td>\n",
              "      <td>92</td>\n",
              "      <td>08-05-1997</td>\n",
              "      <td>1997</td>\n",
              "      <td>8</td>\n",
              "      <td>1997-08</td>\n",
              "    </tr>\n",
              "    <tr>\n",
              "      <th>Rita Sanchez</th>\n",
              "      <td>Rita Sanchez</td>\n",
              "      <td>22</td>\n",
              "      <td>yellow</td>\n",
              "      <td>95</td>\n",
              "      <td>04-28-1996</td>\n",
              "      <td>1996</td>\n",
              "      <td>4</td>\n",
              "      <td>1996-04</td>\n",
              "    </tr>\n",
              "    <tr>\n",
              "      <th>Sly Rop</th>\n",
              "      <td>Sly Rop</td>\n",
              "      <td>21</td>\n",
              "      <td>green</td>\n",
              "      <td>70</td>\n",
              "      <td>12-16-1995</td>\n",
              "      <td>1995</td>\n",
              "      <td>12</td>\n",
              "      <td>1995-12</td>\n",
              "    </tr>\n",
              "  </tbody>\n",
              "</table>\n",
              "</div>"
            ],
            "text/plain": [
              "                            name  age favorite_color  ...  year month  month_year\n",
              "Maryline Chebet  Maryline Chebet   19           blue  ...  1996     1     1996-01\n",
              "Caroh Jones          Caroh Jones   20            red  ...  1997     8     1997-08\n",
              "Rita Sanchez        Rita Sanchez   22         yellow  ...  1996     4     1996-04\n",
              "Sly Rop                  Sly Rop   21          green  ...  1995    12     1995-12\n",
              "\n",
              "[4 rows x 8 columns]"
            ]
          },
          "metadata": {
            "tags": []
          },
          "execution_count": 27
        }
      ]
    }
  ]
}